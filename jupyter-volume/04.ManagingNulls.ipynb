{
 "cells": [
  {
   "cell_type": "code",
   "execution_count": 1,
   "id": "95b2af76-73f6-47bf-b9fc-9234412ed593",
   "metadata": {},
   "outputs": [
    {
     "data": {
      "text/plain": [
       "Intitializing Scala interpreter ..."
      ]
     },
     "metadata": {},
     "output_type": "display_data"
    },
    {
     "data": {
      "text/plain": [
       "Spark Web UI available at http://d281b57a8bf3:4041\n",
       "SparkContext available as 'sc' (version = 3.5.0, master = local[*], app id = local-1706658159423)\n",
       "SparkSession available as 'spark'\n"
      ]
     },
     "metadata": {},
     "output_type": "display_data"
    },
    {
     "data": {
      "text/plain": [
       "import org.apache.spark.sql.SparkSession\n",
       "import org.apache.spark.sql.types._\n",
       "import org.apache.spark.sql.functions._\n",
       "import org.apache.spark.sql._\n",
       "spark: org.apache.spark.sql.SparkSession = org.apache.spark.sql.SparkSession@4d01c9ac\n"
      ]
     },
     "execution_count": 1,
     "metadata": {},
     "output_type": "execute_result"
    }
   ],
   "source": [
    "import org.apache.spark.sql.SparkSession\n",
    "import org.apache.spark.sql.types._\n",
    "import org.apache.spark.sql.functions._\n",
    "import org.apache.spark.sql._\n",
    "\n",
    "val spark = SparkSession.builder()\n",
    ".appName(\"nulls\")\n",
    ".getOrCreate()"
   ]
  },
  {
   "cell_type": "code",
   "execution_count": 2,
   "id": "1d41dd3a-2572-4e5c-845e-4f672e47a8c5",
   "metadata": {},
   "outputs": [
    {
     "name": "stdout",
     "output_type": "stream",
     "text": [
      "+--------------------+--------+-----------+-----------+----------+-----------+-----------+-----------------+------------+----------------------+----------------+-------------------+--------------------+------------+--------+---------------+\n",
      "|       Creative_Type|Director|Distributor|IMDB_Rating|IMDB_Votes|MPAA_Rating|Major_Genre|Production_Budget|Release_Date|Rotten_Tomatoes_Rating|Running_Time_min|             Source|               Title|US_DVD_Sales|US_Gross|Worldwide_Gross|\n",
      "+--------------------+--------+-----------+-----------+----------+-----------+-----------+-----------------+------------+----------------------+----------------+-------------------+--------------------+------------+--------+---------------+\n",
      "|                NULL|    NULL|   Gramercy|        6.1|      1071|          R|       NULL|          8000000|   12-Jun-98|                  NULL|            NULL|               NULL|      The Land Girls|        NULL|  146083|         146083|\n",
      "|                NULL|    NULL|     Strand|        6.9|       207|          R|      Drama|           300000|    7-Aug-98|                  NULL|            NULL|               NULL|First Love, Last ...|        NULL|   10876|          10876|\n",
      "|                NULL|    NULL|  Lionsgate|        6.8|       865|       NULL|     Comedy|           250000|   28-Aug-98|                  NULL|            NULL|               NULL|I Married a Stran...|        NULL|  203134|         203134|\n",
      "|                NULL|    NULL|  Fine Line|       NULL|      NULL|       NULL|     Comedy|           300000|   11-Sep-98|                    13|            NULL|               NULL|Let's Talk About Sex|        NULL|  373615|         373615|\n",
      "|Contemporary Fiction|    NULL|    Trimark|        3.4|       165|          R|      Drama|          1000000|    9-Oct-98|                    62|            NULL|Original Screenplay|                Slam|        NULL| 1009819|        1087521|\n",
      "+--------------------+--------+-----------+-----------+----------+-----------+-----------+-----------------+------------+----------------------+----------------+-------------------+--------------------+------------+--------+---------------+\n",
      "only showing top 5 rows\n",
      "\n"
     ]
    },
    {
     "data": {
      "text/plain": [
       "mv: org.apache.spark.sql.DataFrame = [Creative_Type: string, Director: string ... 14 more fields]\n"
      ]
     },
     "execution_count": 2,
     "metadata": {},
     "output_type": "execute_result"
    }
   ],
   "source": [
    "val mv = spark.read.option(\"inferSchema\", \"true\").json(\"./dataset/movies.json\")\n",
    "mv.show(5)"
   ]
  },
  {
   "cell_type": "code",
   "execution_count": 11,
   "id": "f35cab0f-ffbf-4202-a33a-35b5f8914514",
   "metadata": {},
   "outputs": [
    {
     "name": "stdout",
     "output_type": "stream",
     "text": [
      "+--------------------------+----------------------+-----------+\n",
      "|Title                     |Rotten_Tomatoes_Rating|Actual_Date|\n",
      "+--------------------------+----------------------+-----------+\n",
      "|The Land Girls            |NULL                  |1998-06-12 |\n",
      "|First Love, Last Rites    |NULL                  |1998-08-07 |\n",
      "|I Married a Strange Person|NULL                  |1998-08-28 |\n",
      "|Mississippi Mermaid       |NULL                  |1999-01-15 |\n",
      "|Following                 |NULL                  |1999-04-04 |\n",
      "+--------------------------+----------------------+-----------+\n",
      "only showing top 5 rows\n",
      "\n"
     ]
    },
    {
     "data": {
      "text/plain": [
       "mv1: org.apache.spark.sql.Dataset[org.apache.spark.sql.Row] = [Title: string, Rotten_Tomatoes_Rating: bigint ... 1 more field]\n"
      ]
     },
     "execution_count": 11,
     "metadata": {},
     "output_type": "execute_result"
    }
   ],
   "source": [
    "spark.conf.set(\"spark.sql.legacy.timeParserPolicy\",\"LEGACY\")\n",
    "\n",
    "val mv1 = mv\n",
    ".select(col(\"Title\"), col(\"Rotten_Tomatoes_Rating\"), to_date(col(\"Release_Date\"), \"dd-MMM-yy\").as(\"Actual_Date\"))\n",
    ".filter(col(\"Rotten_Tomatoes_Rating\").isNull)\n",
    "\n",
    "mv1.show(5, false)"
   ]
  },
  {
   "cell_type": "code",
   "execution_count": 16,
   "id": "d2cdd48d-4fd2-4028-b772-a3a2ee588aef",
   "metadata": {},
   "outputs": [
    {
     "name": "stdout",
     "output_type": "stream",
     "text": [
      "+-----------+----------------------+-----------+------------+\n",
      "|Major_Genre|Rotten_Tomatoes_Rating|IMDB_Rating|firstNotNull|\n",
      "+-----------+----------------------+-----------+------------+\n",
      "|       NULL|                  NULL|        6.1|         6.1|\n",
      "|      Drama|                  NULL|        6.9|       Drama|\n",
      "|     Comedy|                  NULL|        6.8|      Comedy|\n",
      "|     Comedy|                    13|       NULL|      Comedy|\n",
      "|      Drama|                    62|        3.4|       Drama|\n",
      "|       NULL|                  NULL|       NULL|        NULL|\n",
      "|       NULL|                  NULL|        7.7|         7.7|\n",
      "|     Comedy|                  NULL|        3.8|      Comedy|\n",
      "|       NULL|                    25|        5.8|          25|\n",
      "|       NULL|                    86|        7.0|          86|\n",
      "|       NULL|                    81|        7.0|          81|\n",
      "|    Musical|                    84|        7.5|     Musical|\n",
      "|       NULL|                    97|        8.4|          97|\n",
      "|       NULL|                  NULL|       NULL|        NULL|\n",
      "|       NULL|                    87|        6.8|          87|\n",
      "|       NULL|                  NULL|       NULL|        NULL|\n",
      "|       NULL|                  NULL|        7.0|         7.0|\n",
      "|       NULL|                  NULL|        6.1|         6.1|\n",
      "|       NULL|                    90|        2.5|          90|\n",
      "|      Drama|                  NULL|        8.9|       Drama|\n",
      "+-----------+----------------------+-----------+------------+\n",
      "only showing top 20 rows\n",
      "\n"
     ]
    },
    {
     "data": {
      "text/plain": [
       "mv2: org.apache.spark.sql.DataFrame = [Major_Genre: string, Rotten_Tomatoes_Rating: bigint ... 2 more fields]\n"
      ]
     },
     "execution_count": 16,
     "metadata": {},
     "output_type": "execute_result"
    }
   ],
   "source": [
    "val mv2 = mv\n",
    ".select(\n",
    "    col(\"Major_Genre\"),\n",
    "    col(\"Rotten_Tomatoes_Rating\"), \n",
    "    col(\"IMDB_Rating\"), \n",
    "    coalesce(col(\"Major_Genre\"), col(\"Rotten_Tomatoes_Rating\"), col(\"IMDB_Rating\")).as(\"firstNotNull\")\n",
    ")\n",
    "\n",
    "mv2.show()"
   ]
  },
  {
   "cell_type": "code",
   "execution_count": 17,
   "id": "40337a4a-8f64-476a-9b25-0694ac3ccbc5",
   "metadata": {},
   "outputs": [
    {
     "name": "stdout",
     "output_type": "stream",
     "text": [
      "+-----------------+----------------------+-----------+-----------------+\n",
      "|      Major_Genre|Rotten_Tomatoes_Rating|IMDB_Rating|     firstNotNull|\n",
      "+-----------------+----------------------+-----------+-----------------+\n",
      "|             NULL|                   100|        9.2|              100|\n",
      "|            Drama|                    88|        9.2|            Drama|\n",
      "|Thriller/Suspense|                    87|        9.1|Thriller/Suspense|\n",
      "|             NULL|                  NULL|        9.0|              9.0|\n",
      "|            Drama|                  NULL|        8.9|            Drama|\n",
      "|             NULL|                    96|        8.9|               96|\n",
      "|            Drama|                    94|        8.9|            Drama|\n",
      "|            Drama|                    97|        8.9|            Drama|\n",
      "|           Action|                    93|        8.9|           Action|\n",
      "|        Adventure|                    99|        8.9|        Adventure|\n",
      "|            Drama|                    97|        8.8|            Drama|\n",
      "|          Western|                  NULL|        8.8|          Western|\n",
      "|            Drama|                    97|        8.8|            Drama|\n",
      "|           Action|                  NULL|        8.8|           Action|\n",
      "|            Drama|                  NULL|        8.8|            Drama|\n",
      "|            Drama|                    81|        8.8|            Drama|\n",
      "|        Adventure|                  NULL|        8.8|        Adventure|\n",
      "|        Adventure|                  NULL|        8.8|        Adventure|\n",
      "|             NULL|                    94|        8.7|               94|\n",
      "|            Drama|                    87|        8.7|            Drama|\n",
      "+-----------------+----------------------+-----------+-----------------+\n",
      "only showing top 20 rows\n",
      "\n"
     ]
    }
   ],
   "source": [
    "mv2.orderBy(col(\"IMDB_Rating\").desc_nulls_last).show()"
   ]
  },
  {
   "cell_type": "code",
   "execution_count": 20,
   "id": "0380c835-ab88-486b-b527-5fab25e6b22d",
   "metadata": {},
   "outputs": [
    {
     "name": "stdout",
     "output_type": "stream",
     "text": [
      "+-----------+----------------------+-----------+------------+\n",
      "|Major_Genre|Rotten_Tomatoes_Rating|IMDB_Rating|firstNotNull|\n",
      "+-----------+----------------------+-----------+------------+\n",
      "|      Drama|                    62|        3.4|       Drama|\n",
      "|    Musical|                    84|        7.5|     Musical|\n",
      "|      Drama|                    57|        7.0|       Drama|\n",
      "|     Comedy|                    33|        5.6|      Comedy|\n",
      "|      Drama|                    77|        7.1|       Drama|\n",
      "+-----------+----------------------+-----------+------------+\n",
      "only showing top 5 rows\n",
      "\n"
     ]
    }
   ],
   "source": [
    "// drop na\n",
    "\n",
    "mv2.na.drop().show(5)"
   ]
  },
  {
   "cell_type": "code",
   "execution_count": 25,
   "id": "08598cbe-76f4-473e-94de-f717116f23c5",
   "metadata": {},
   "outputs": [
    {
     "name": "stdout",
     "output_type": "stream",
     "text": [
      "+-----------+----------------------+-----------+------------+\n",
      "|Major_Genre|Rotten_Tomatoes_Rating|IMDB_Rating|firstNotNull|\n",
      "+-----------+----------------------+-----------+------------+\n",
      "|       NULL|                     0|        6.1|         6.1|\n",
      "|      Drama|                     0|        6.9|       Drama|\n",
      "|     Comedy|                     0|        6.8|      Comedy|\n",
      "|     Comedy|                    13|        0.0|      Comedy|\n",
      "|      Drama|                    62|        3.4|       Drama|\n",
      "+-----------+----------------------+-----------+------------+\n",
      "only showing top 5 rows\n",
      "\n"
     ]
    }
   ],
   "source": [
    "mv2.na.fill(0).show(5) // 타입이 맞는것만 fill 된다."
   ]
  },
  {
   "cell_type": "code",
   "execution_count": null,
   "id": "fc8917b7-a0b3-4449-9aeb-f950ae854037",
   "metadata": {},
   "outputs": [],
   "source": []
  },
  {
   "cell_type": "code",
   "execution_count": 29,
   "id": "d3a8135f-1ce3-42cf-b80e-f5f1a680a411",
   "metadata": {},
   "outputs": [
    {
     "name": "stdout",
     "output_type": "stream",
     "text": [
      "+-----------+----------------------+-----------+------------+\n",
      "|Major_Genre|Rotten_Tomatoes_Rating|IMDB_Rating|firstNotNull|\n",
      "+-----------+----------------------+-----------+------------+\n",
      "|       NULL|                     0|        6.1|         6.1|\n",
      "|      Drama|                     0|        6.9|       Drama|\n",
      "|     Comedy|                     0|        6.8|      Comedy|\n",
      "|     Comedy|                    13|        0.0|      Comedy|\n",
      "|      Drama|                    62|        3.4|       Drama|\n",
      "|       NULL|                     0|        0.0|        NULL|\n",
      "|       NULL|                     0|        7.7|         7.7|\n",
      "|     Comedy|                     0|        3.8|      Comedy|\n",
      "|       NULL|                    25|        5.8|          25|\n",
      "|       NULL|                    86|        7.0|          86|\n",
      "|       NULL|                    81|        7.0|          81|\n",
      "|    Musical|                    84|        7.5|     Musical|\n",
      "|       NULL|                    97|        8.4|          97|\n",
      "|       NULL|                     0|        0.0|        NULL|\n",
      "|       NULL|                    87|        6.8|          87|\n",
      "|       NULL|                     0|        0.0|        NULL|\n",
      "|       NULL|                     0|        7.0|         7.0|\n",
      "|       NULL|                     0|        6.1|         6.1|\n",
      "|       NULL|                    90|        2.5|          90|\n",
      "|      Drama|                     0|        8.9|       Drama|\n",
      "+-----------+----------------------+-----------+------------+\n",
      "only showing top 20 rows\n",
      "\n"
     ]
    }
   ],
   "source": [
    "mv2.na.fill(0, Array(\"IMDB_Rating\", \"Rotten_Tomatoes_Rating\")).show()"
   ]
  },
  {
   "cell_type": "code",
   "execution_count": 34,
   "id": "79d6dea6-51fa-4103-b774-8fe590ea431b",
   "metadata": {},
   "outputs": [
    {
     "name": "stdout",
     "output_type": "stream",
     "text": [
      "+-----------+----------------------+-----------+------------+\n",
      "|Major_Genre|Rotten_Tomatoes_Rating|IMDB_Rating|firstNotNull|\n",
      "+-----------+----------------------+-----------+------------+\n",
      "|    UNKNOWN|                 11111|        6.1|         6.1|\n",
      "|      Drama|                 11111|        6.9|       Drama|\n",
      "|     Comedy|                 11111|        6.8|      Comedy|\n",
      "|     Comedy|                    13|    22222.0|      Comedy|\n",
      "|      Drama|                    62|        3.4|       Drama|\n",
      "|    UNKNOWN|                 11111|    22222.0|     ALLNULL|\n",
      "|    UNKNOWN|                 11111|        7.7|         7.7|\n",
      "|     Comedy|                 11111|        3.8|      Comedy|\n",
      "|    UNKNOWN|                    25|        5.8|          25|\n",
      "|    UNKNOWN|                    86|        7.0|          86|\n",
      "|    UNKNOWN|                    81|        7.0|          81|\n",
      "|    Musical|                    84|        7.5|     Musical|\n",
      "|    UNKNOWN|                    97|        8.4|          97|\n",
      "|    UNKNOWN|                 11111|    22222.0|     ALLNULL|\n",
      "|    UNKNOWN|                    87|        6.8|          87|\n",
      "|    UNKNOWN|                 11111|    22222.0|     ALLNULL|\n",
      "|    UNKNOWN|                 11111|        7.0|         7.0|\n",
      "|    UNKNOWN|                 11111|        6.1|         6.1|\n",
      "|    UNKNOWN|                    90|        2.5|          90|\n",
      "|      Drama|                 11111|        8.9|       Drama|\n",
      "+-----------+----------------------+-----------+------------+\n",
      "only showing top 20 rows\n",
      "\n"
     ]
    }
   ],
   "source": [
    "// 각 컬럼별로 fill na 조건 설정\n",
    "mv2.na.fill(Map(\n",
    "    \"Major_Genre\" -> \"UNKNOWN\",\n",
    "    \"Rotten_Tomatoes_Rating\" -> 11111,\n",
    "    \"IMDB_Rating\" -> 22222,\n",
    "    \"firstNotNull\" -> \"ALLNULL\"\n",
    ")).show()"
   ]
  },
  {
   "cell_type": "code",
   "execution_count": 10,
   "id": "89663831-5d67-4e59-ab59-4bdef1ae8e31",
   "metadata": {},
   "outputs": [
    {
     "name": "stdout",
     "output_type": "stream",
     "text": [
      "+--------------------+-----------+----------------------+------+----+------+----+-----+\n",
      "|               Title|IMDB_Rating|Rotten_Tomatoes_Rating|ifnull| nvl|nullif|nvl2|nanvl|\n",
      "+--------------------+-----------+----------------------+------+----+------+----+-----+\n",
      "|      The Land Girls|        6.1|                  NULL|  61.0|61.0|  NULL| 0.0| NULL|\n",
      "|First Love, Last ...|        6.9|                  NULL|  69.0|69.0|  NULL| 0.0| NULL|\n",
      "|I Married a Stran...|        6.8|                  NULL|  68.0|68.0|  NULL| 0.0| NULL|\n",
      "|Let's Talk About Sex|       NULL|                    13|  13.0|13.0|    13|NULL| 13.0|\n",
      "|                Slam|        3.4|                    62|  62.0|62.0|    62|34.0| 62.0|\n",
      "| Mississippi Mermaid|       NULL|                  NULL|  NULL|NULL|  NULL| 0.0| NULL|\n",
      "|           Following|        7.7|                  NULL|  77.0|77.0|  NULL| 0.0| NULL|\n",
      "|             Foolish|        3.8|                  NULL|  38.0|38.0|  NULL| 0.0| NULL|\n",
      "|             Pirates|        5.8|                    25|  25.0|25.0|    25|58.0| 25.0|\n",
      "|     Duel in the Sun|        7.0|                    86|  86.0|86.0|    86|70.0| 86.0|\n",
      "|           Tom Jones|        7.0|                    81|  81.0|81.0|    81|70.0| 81.0|\n",
      "|             Oliver!|        7.5|                    84|  84.0|84.0|    84|75.0| 84.0|\n",
      "|To Kill A Mocking...|        8.4|                    97|  97.0|97.0|    97|84.0| 97.0|\n",
      "|    Tora, Tora, Tora|       NULL|                  NULL|  NULL|NULL|  NULL| 0.0| NULL|\n",
      "|   Hollywood Shuffle|        6.8|                    87|  87.0|87.0|    87|68.0| 87.0|\n",
      "|Over the Hill to ...|       NULL|                  NULL|  NULL|NULL|  NULL| 0.0| NULL|\n",
      "|              Wilson|        7.0|                  NULL|  70.0|70.0|  NULL| 0.0| NULL|\n",
      "|        Darling Lili|        6.1|                  NULL|  61.0|61.0|  NULL| 0.0| NULL|\n",
      "|The Ten Commandments|        2.5|                    90|  90.0|90.0|    90|25.0| 90.0|\n",
      "|        12 Angry Men|        8.9|                  NULL|  89.0|89.0|  NULL| 0.0| NULL|\n",
      "+--------------------+-----------+----------------------+------+----+------+----+-----+\n",
      "only showing top 20 rows\n",
      "\n"
     ]
    }
   ],
   "source": [
    "// https://jaynamm.tistory.com/entry/Spark-SQL-function-ifnull-nullif-nvl-nvl2\n",
    "\n",
    "mv.selectExpr(\n",
    "    \"Title\",\n",
    "    \"IMDB_Rating\",\n",
    "    \"Rotten_Tomatoes_Rating\",\n",
    "    \"ifnull(Rotten_Tomatoes_Rating, IMDB_Rating * 10) as ifnull\", // 첫번째가 null이면 두번쨰 value 반환\n",
    "    \"nvl(Rotten_Tomatoes_Rating, IMDB_Rating * 10) as nvl\", // 첫번째가 null이면 두 번쨰 value 반환\n",
    "    \"nullif(Rotten_Tomatoes_Rating, IMDB_Rating * 10) as nullif\", // 두 값이 같으면 null, 다르면 첫번째 값 반환\n",
    "    \"nvl2(Rotten_Tomatoes_Rating, IMDB_Rating * 10, 0.0) as nvl2\", // 첫번째가 not null -> 두번째, null -> 세번째\n",
    "    \"nanvl(Rotten_Tomatoes_Rating, IMDB_Rating * 10) as nanvl\"\n",
    ").show()"
   ]
  },
  {
   "cell_type": "markdown",
   "id": "b213e50f-57f5-4c81-9f67-5df0099a4a19",
   "metadata": {},
   "source": [
    "## 다른 Method들 실습"
   ]
  },
  {
   "cell_type": "code",
   "execution_count": 4,
   "id": "dd900b7d-b9b5-41d2-8eaa-69e1c28dbef4",
   "metadata": {},
   "outputs": [
    {
     "name": "stdout",
     "output_type": "stream",
     "text": [
      "+-------------+--------+-----------+-----------+----------+-----------+-----------+-----------------+------------+----------------------+----------------+------+--------------------+------------+--------+---------------+\n",
      "|Creative_Type|Director|Distributor|IMDB_Rating|IMDB_Votes|MPAA_Rating|Major_Genre|Production_Budget|Release_Date|Rotten_Tomatoes_Rating|Running_Time_min|Source|               Title|US_DVD_Sales|US_Gross|Worldwide_Gross|\n",
      "+-------------+--------+-----------+-----------+----------+-----------+-----------+-----------------+------------+----------------------+----------------+------+--------------------+------------+--------+---------------+\n",
      "|         NULL|    NULL|   Gramercy|        6.1|      1071|          R|       NULL|          8000000|   12-Jun-98|                  NULL|            NULL|  NULL|      The Land Girls|        NULL|  146083|         146083|\n",
      "|         NULL|    NULL|     Strand|        6.9|       207|          R|      Drama|           300000|    7-Aug-98|                  NULL|            NULL|  NULL|First Love, Last ...|        NULL|   10876|          10876|\n",
      "|         NULL|    NULL|  Lionsgate|        6.8|       865|       NULL|     Comedy|           250000|   28-Aug-98|                  NULL|            NULL|  NULL|I Married a Stran...|        NULL|  203134|         203134|\n",
      "+-------------+--------+-----------+-----------+----------+-----------+-----------+-----------------+------------+----------------------+----------------+------+--------------------+------------+--------+---------------+\n",
      "only showing top 3 rows\n",
      "\n"
     ]
    }
   ],
   "source": [
    "mv.show(3)"
   ]
  },
  {
   "cell_type": "code",
   "execution_count": 7,
   "id": "18210bef-a4c9-4882-a155-c6a175a183e4",
   "metadata": {},
   "outputs": [
    {
     "name": "stdout",
     "output_type": "stream",
     "text": [
      "+--------------------------+-------------------------------------------------------------------------------+\n",
      "|Title                     |Encoded                                                                        |\n",
      "+--------------------------+-------------------------------------------------------------------------------+\n",
      "|The Land Girls            |[54 68 65 20 4C 61 6E 64 20 47 69 72 6C 73]                                    |\n",
      "|First Love, Last Rites    |[46 69 72 73 74 20 4C 6F 76 65 2C 20 4C 61 73 74 20 52 69 74 65 73]            |\n",
      "|I Married a Strange Person|[49 20 4D 61 72 72 69 65 64 20 61 20 53 74 72 61 6E 67 65 20 50 65 72 73 6F 6E]|\n",
      "|Let's Talk About Sex      |[4C 65 74 27 73 20 54 61 6C 6B 20 41 62 6F 75 74 20 53 65 78]                  |\n",
      "|Slam                      |[53 6C 61 6D]                                                                  |\n",
      "+--------------------------+-------------------------------------------------------------------------------+\n",
      "only showing top 5 rows\n",
      "\n"
     ]
    }
   ],
   "source": [
    "mv.select(col(\"Title\"), encode(col(\"Title\"), \"UTF-8\").as(\"Encoded\")).show(5, false)"
   ]
  },
  {
   "cell_type": "code",
   "execution_count": 15,
   "id": "63d934c8-aec1-45e5-b208-95ea520e4bab",
   "metadata": {},
   "outputs": [
    {
     "name": "stdout",
     "output_type": "stream",
     "text": [
      "+--------------------------+-------------------------------------------------------------------------------+--------------------------+------------+-------------------------------------------+\n",
      "|Title                     |Encoded                                                                        |Decoded                   |partition_id|input_file_name()                          |\n",
      "+--------------------------+-------------------------------------------------------------------------------+--------------------------+------------+-------------------------------------------+\n",
      "|The Land Girls            |[54 68 65 20 4C 61 6E 64 20 47 69 72 6C 73]                                    |The Land Girls            |0           |file:///workspace/spark/dataset/movies.json|\n",
      "|First Love, Last Rites    |[46 69 72 73 74 20 4C 6F 76 65 2C 20 4C 61 73 74 20 52 69 74 65 73]            |First Love, Last Rites    |0           |file:///workspace/spark/dataset/movies.json|\n",
      "|I Married a Strange Person|[49 20 4D 61 72 72 69 65 64 20 61 20 53 74 72 61 6E 67 65 20 50 65 72 73 6F 6E]|I Married a Strange Person|0           |file:///workspace/spark/dataset/movies.json|\n",
      "|Let's Talk About Sex      |[4C 65 74 27 73 20 54 61 6C 6B 20 41 62 6F 75 74 20 53 65 78]                  |Let's Talk About Sex      |0           |file:///workspace/spark/dataset/movies.json|\n",
      "|Slam                      |[53 6C 61 6D]                                                                  |Slam                      |0           |file:///workspace/spark/dataset/movies.json|\n",
      "+--------------------------+-------------------------------------------------------------------------------+--------------------------+------------+-------------------------------------------+\n",
      "only showing top 5 rows\n",
      "\n"
     ]
    }
   ],
   "source": [
    "mv.select(\n",
    "    col(\"Title\"),\n",
    "    encode(col(\"Title\"), \"UTF-8\").as(\"Encoded\"),\n",
    "    decode(col(\"Encoded\"), \"UTF-8\").as(\"Decoded\"),\n",
    "    expr(\"spark_partition_id() as partition_id\"),\n",
    "    input_file_name()\n",
    ").show(5, false)"
   ]
  }
 ],
 "metadata": {
  "kernelspec": {
   "display_name": "spylon-kernel",
   "language": "scala",
   "name": "spylon-kernel"
  },
  "language_info": {
   "codemirror_mode": "text/x-scala",
   "file_extension": ".scala",
   "help_links": [
    {
     "text": "MetaKernel Magics",
     "url": "https://metakernel.readthedocs.io/en/latest/source/README.html"
    }
   ],
   "mimetype": "text/x-scala",
   "name": "scala",
   "pygments_lexer": "scala",
   "version": "0.4.1"
  }
 },
 "nbformat": 4,
 "nbformat_minor": 5
}
