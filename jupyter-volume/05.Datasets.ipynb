{
 "cells": [
  {
   "cell_type": "code",
   "execution_count": 1,
   "id": "0caac1b0-2d61-4231-9503-56549c334bb7",
   "metadata": {},
   "outputs": [
    {
     "data": {
      "text/plain": [
       "Intitializing Scala interpreter ..."
      ]
     },
     "metadata": {},
     "output_type": "display_data"
    },
    {
     "data": {
      "text/plain": [
       "Spark Web UI available at http://d281b57a8bf3:4040\n",
       "SparkContext available as 'sc' (version = 3.5.0, master = local[*], app id = local-1706658127310)\n",
       "SparkSession available as 'spark'\n"
      ]
     },
     "metadata": {},
     "output_type": "display_data"
    },
    {
     "data": {
      "text/plain": [
       "import org.apache.spark.sql.SparkSession\n",
       "import org.apache.spark.sql.types._\n",
       "import org.apache.spark.sql.functions._\n",
       "import org.apache.spark.sql._\n",
       "spark: org.apache.spark.sql.SparkSession = org.apache.spark.sql.SparkSession@45aa9013\n"
      ]
     },
     "execution_count": 1,
     "metadata": {},
     "output_type": "execute_result"
    }
   ],
   "source": [
    "import org.apache.spark.sql.SparkSession\n",
    "import org.apache.spark.sql.types._\n",
    "import org.apache.spark.sql.functions._\n",
    "import org.apache.spark.sql._\n",
    "\n",
    "val spark = SparkSession.builder()\n",
    ".appName(\"dataset\")\n",
    ".getOrCreate()"
   ]
  },
  {
   "cell_type": "code",
   "execution_count": 15,
   "id": "b1429e6e-a011-49b0-96f9-a1126ac472cc",
   "metadata": {},
   "outputs": [
    {
     "name": "stdout",
     "output_type": "stream",
     "text": [
      "+------------+---------+------------+----------+----------------+--------------------+------+-------------+----------+\n",
      "|Acceleration|Cylinders|Displacement|Horsepower|Miles_per_Gallon|                Name|Origin|Weight_in_lbs|      Year|\n",
      "+------------+---------+------------+----------+----------------+--------------------+------+-------------+----------+\n",
      "|        12.0|        8|       307.0|       130|            18.0|chevrolet chevell...|   USA|         3504|1970-01-01|\n",
      "|        11.5|        8|       350.0|       165|            15.0|   buick skylark 320|   USA|         3693|1970-01-01|\n",
      "+------------+---------+------------+----------+----------------+--------------------+------+-------------+----------+\n",
      "only showing top 2 rows\n",
      "\n"
     ]
    },
    {
     "data": {
      "text/plain": [
       "cdf: org.apache.spark.sql.DataFrame = [Acceleration: double, Cylinders: bigint ... 7 more fields]\n"
      ]
     },
     "execution_count": 15,
     "metadata": {},
     "output_type": "execute_result"
    }
   ],
   "source": [
    "val cdf = spark.read\n",
    "    .option(\"inferSchema\", \"true\")\n",
    "    .json(\"./dataset/cars.json\")\n",
    "\n",
    "cdf.show(2)"
   ]
  },
  {
   "cell_type": "code",
   "execution_count": 28,
   "id": "b1f64496-ecea-4110-b79b-13f1fd6c06cc",
   "metadata": {},
   "outputs": [
    {
     "data": {
      "text/plain": [
       "import spark.implicits._\n",
       "defined class Car\n"
      ]
     },
     "execution_count": 28,
     "metadata": {},
     "output_type": "execute_result"
    }
   ],
   "source": [
    " import spark.implicits._\n",
    "\n",
    "case class Car(\n",
    "            Acceleration: Double,\n",
    "            Cylinders: Long,\n",
    "            Displacement: Double,\n",
    "            Horsepower: Option[Long],\n",
    "            Miles_per_Gallon: Option[Double],\n",
    "            Name: String,\n",
    "            Origin: String,\n",
    "            Weight_in_lbs: Long,\n",
    "            Year: String\n",
    "            )"
   ]
  },
  {
   "cell_type": "code",
   "execution_count": 29,
   "id": "88a98291-ea6b-4223-827e-69cabc3a41d9",
   "metadata": {},
   "outputs": [
    {
     "data": {
      "text/plain": [
       "cds: org.apache.spark.sql.Dataset[Car] = [Acceleration: double, Cylinders: bigint ... 7 more fields]\n"
      ]
     },
     "execution_count": 29,
     "metadata": {},
     "output_type": "execute_result"
    }
   ],
   "source": [
    "val cds = cdf.as[Car]"
   ]
  },
  {
   "cell_type": "code",
   "execution_count": 30,
   "id": "3bf8b723-bfde-4ed0-a3c3-d32f92a71aad",
   "metadata": {},
   "outputs": [
    {
     "data": {
      "text/plain": [
       "res15: org.apache.spark.sql.Row = [12.0,8,307.0,130,18.0,chevrolet chevelle malibu,USA,3504,1970-01-01]\n"
      ]
     },
     "execution_count": 30,
     "metadata": {},
     "output_type": "execute_result"
    }
   ],
   "source": [
    "cdf.collect()(0)"
   ]
  },
  {
   "cell_type": "code",
   "execution_count": 31,
   "id": "6ab925ab-462a-47ff-8ccf-0f4f41151ce8",
   "metadata": {},
   "outputs": [
    {
     "data": {
      "text/plain": [
       "res16: Car = Car(12.0,8,307.0,Some(130),Some(18.0),chevrolet chevelle malibu,USA,3504,1970-01-01)\n"
      ]
     },
     "execution_count": 31,
     "metadata": {},
     "output_type": "execute_result"
    }
   ],
   "source": [
    "cds.collect()(0)"
   ]
  },
  {
   "cell_type": "code",
   "execution_count": 35,
   "id": "94ce4e86-ff33-450b-a0a4-776676986035",
   "metadata": {},
   "outputs": [
    {
     "name": "stdout",
     "output_type": "stream",
     "text": [
      "+------------+---------+------------+----------+----------------+------------------+------+-------------+----------+\n",
      "|Acceleration|Cylinders|Displacement|Horsepower|Miles_per_Gallon|              Name|Origin|Weight_in_lbs|      Year|\n",
      "+------------+---------+------------+----------+----------------+------------------+------+-------------+----------+\n",
      "|        12.0|        8|       304.0|       150|            16.0|     amc rebel sst|   USA|         3433|1970-01-01|\n",
      "|         8.5|        8|       390.0|       190|            15.0|amc ambassador dpl|   USA|         3850|1970-01-01|\n",
      "|        11.0|        8|       360.0|       175|            NULL|amc rebel sst (sw)|   USA|         3850|1970-01-01|\n",
      "|        15.5|        6|       199.0|        97|            18.0|        amc hornet|   USA|         2774|1970-01-01|\n",
      "|        15.0|        6|       199.0|        90|            21.0|       amc gremlin|   USA|         2648|1970-01-01|\n",
      "+------------+---------+------------+----------+----------------+------------------+------+-------------+----------+\n",
      "only showing top 5 rows\n",
      "\n"
     ]
    }
   ],
   "source": [
    "cds.filter(col(\"Name\").contains(\"amc\")).show(5)"
   ]
  },
  {
   "cell_type": "code",
   "execution_count": 47,
   "id": "ab89ab1a-6c89-42e3-b625-e88fe001c558",
   "metadata": {},
   "outputs": [
    {
     "data": {
      "text/plain": [
       "cols: List[Array[String]] = List(Array(Acceleration, Cylinders, Displacement, Horsepower, Miles_per_Gallon, Name, Origin, Weight_in_lbs, Year))\n"
      ]
     },
     "execution_count": 47,
     "metadata": {},
     "output_type": "execute_result"
    }
   ],
   "source": [
    "val cols = List(cds.columns)"
   ]
  },
  {
   "cell_type": "code",
   "execution_count": 48,
   "id": "17e27bc7-289d-4d2a-8a47-b4e0e15391e7",
   "metadata": {},
   "outputs": [
    {
     "name": "stdout",
     "output_type": "stream",
     "text": [
      "+--------------------+\n",
      "|               value|\n",
      "+--------------------+\n",
      "|CHEVROLET CHEVELL...|\n",
      "|   BUICK SKYLARK 320|\n",
      "|  PLYMOUTH SATELLITE|\n",
      "|       AMC REBEL SST|\n",
      "|         FORD TORINO|\n",
      "|    FORD GALAXIE 500|\n",
      "|    CHEVROLET IMPALA|\n",
      "|   PLYMOUTH FURY III|\n",
      "|    PONTIAC CATALINA|\n",
      "|  AMC AMBASSADOR DPL|\n",
      "|CITROEN DS-21 PALLAS|\n",
      "|CHEVROLET CHEVELL...|\n",
      "|    FORD TORINO (SW)|\n",
      "|PLYMOUTH SATELLIT...|\n",
      "|  AMC REBEL SST (SW)|\n",
      "| DODGE CHALLENGER SE|\n",
      "|  PLYMOUTH 'CUDA 340|\n",
      "|FORD MUSTANG BOSS...|\n",
      "|CHEVROLET MONTE C...|\n",
      "|BUICK ESTATE WAGO...|\n",
      "+--------------------+\n",
      "only showing top 20 rows\n",
      "\n"
     ]
    }
   ],
   "source": [
    "cds.map(car => car.Name.toUpperCase()).show"
   ]
  },
  {
   "cell_type": "code",
   "execution_count": 49,
   "id": "abdaebfd-9a6c-4a31-833d-e95660d0953c",
   "metadata": {},
   "outputs": [
    {
     "name": "stdout",
     "output_type": "stream",
     "text": [
      "+-----+\n",
      "|value|\n",
      "+-----+\n",
      "|false|\n",
      "|false|\n",
      "|false|\n",
      "|false|\n",
      "| true|\n",
      "| true|\n",
      "|false|\n",
      "|false|\n",
      "|false|\n",
      "|false|\n",
      "|false|\n",
      "|false|\n",
      "| true|\n",
      "|false|\n",
      "|false|\n",
      "|false|\n",
      "|false|\n",
      "| true|\n",
      "|false|\n",
      "|false|\n",
      "+-----+\n",
      "only showing top 20 rows\n",
      "\n"
     ]
    }
   ],
   "source": [
    "cds.map(car => car.Name.contains(\"ford\")).show"
   ]
  }
 ],
 "metadata": {
  "kernelspec": {
   "display_name": "spylon-kernel",
   "language": "scala",
   "name": "spylon-kernel"
  },
  "language_info": {
   "codemirror_mode": "text/x-scala",
   "file_extension": ".scala",
   "help_links": [
    {
     "text": "MetaKernel Magics",
     "url": "https://metakernel.readthedocs.io/en/latest/source/README.html"
    }
   ],
   "mimetype": "text/x-scala",
   "name": "scala",
   "pygments_lexer": "scala",
   "version": "0.4.1"
  }
 },
 "nbformat": 4,
 "nbformat_minor": 5
}
