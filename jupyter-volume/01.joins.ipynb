{
 "cells": [
  {
   "cell_type": "code",
   "execution_count": 2,
   "id": "b6f1339a-2102-40a5-b133-bb09f1340327",
   "metadata": {},
   "outputs": [
    {
     "data": {
      "text/plain": [
       "import org.apache.spark.sql.SparkSession\n",
       "import org.apache.spark.sql.types._\n",
       "import org.apache.spark.sql.functions._\n",
       "import org.apache.spark.sql._\n",
       "spark: org.apache.spark.sql.SparkSession = org.apache.spark.sql.SparkSession@739c8c3c\n"
      ]
     },
     "execution_count": 2,
     "metadata": {},
     "output_type": "execute_result"
    }
   ],
   "source": [
    "import org.apache.spark.sql.SparkSession\n",
    "import org.apache.spark.sql.types._\n",
    "import org.apache.spark.sql.functions._\n",
    "import org.apache.spark.sql._\n",
    "\n",
    "val spark = SparkSession.builder()\n",
    ".appName(\"Joins\")\n",
    ".getOrCreate()"
   ]
  },
  {
   "cell_type": "code",
   "execution_count": 3,
   "id": "10615abb-6e63-4379-bd6f-7dd4ebdd3354",
   "metadata": {},
   "outputs": [
    {
     "data": {
      "text/plain": [
       "band: org.apache.spark.sql.DataFrame = [hometown: string, id: bigint ... 2 more fields]\n",
       "player: org.apache.spark.sql.DataFrame = [band: bigint, guitars: array<bigint> ... 2 more fields]\n",
       "guitar: org.apache.spark.sql.DataFrame = [guitarType: string, id: bigint ... 2 more fields]\n"
      ]
     },
     "execution_count": 3,
     "metadata": {},
     "output_type": "execute_result"
    }
   ],
   "source": [
    "val band = spark.read.option(\"inferSchema\", \"true\").json(\"./dataset/bands.json\")\n",
    "val player = spark.read.option(\"inferSchema\", \"true\").json(\"./dataset/guitarPlayers.json\")\n",
    "val guitar = spark.read.option(\"inferSchema\", \"true\").json(\"./dataset/guitars.json\")"
   ]
  },
  {
   "cell_type": "code",
   "execution_count": 4,
   "id": "93092724-a356-4edd-9681-cfb42e66f097",
   "metadata": {},
   "outputs": [
    {
     "name": "stdout",
     "output_type": "stream",
     "text": [
      "band\n",
      "+-----------+---+------------+----+\n",
      "|   hometown| id|        name|year|\n",
      "+-----------+---+------------+----+\n",
      "|     Sydney|  1|       AC/DC|1973|\n",
      "|     London|  0|Led Zeppelin|1968|\n",
      "|Los Angeles|  3|   Metallica|1981|\n",
      "|  Liverpool|  4| The Beatles|1960|\n",
      "+-----------+---+------------+----+\n",
      "\n",
      "player\n",
      "+----+-------+---+------------+\n",
      "|band|guitars| id|        name|\n",
      "+----+-------+---+------------+\n",
      "|   0|    [0]|  0|  Jimmy Page|\n",
      "|   1|    [1]|  1| Angus Young|\n",
      "|   2| [1, 5]|  2|Eric Clapton|\n",
      "|   3|    [3]|  3|Kirk Hammett|\n",
      "+----+-------+---+------------+\n",
      "\n",
      "guitar\n",
      "+--------------------+---+------+------------+\n",
      "|          guitarType| id|  make|       model|\n",
      "+--------------------+---+------+------------+\n",
      "|Electric double-n...|  0|Gibson|    EDS-1275|\n",
      "|            Electric|  5|Fender|Stratocaster|\n",
      "|            Electric|  1|Gibson|          SG|\n",
      "|            Acoustic|  2|Taylor|         914|\n",
      "|            Electric|  3|   ESP|        M-II|\n",
      "+--------------------+---+------+------------+\n",
      "\n"
     ]
    }
   ],
   "source": [
    "println(\"band\")\n",
    "band.show(5)\n",
    "\n",
    "println(\"player\")\n",
    "player.show(5)\n",
    "\n",
    "println(\"guitar\")\n",
    "guitar.show(5)"
   ]
  },
  {
   "cell_type": "code",
   "execution_count": 24,
   "id": "141ff265-c8a7-4343-9f41-6b65bc779509",
   "metadata": {},
   "outputs": [
    {
     "data": {
      "text/plain": [
       "joinCondition: Seq[String] = List(id)\n"
      ]
     },
     "execution_count": 24,
     "metadata": {},
     "output_type": "execute_result"
    }
   ],
   "source": [
    "// 0. JOIN CONDITION\n",
    "\n",
    "val joinCondition = Seq(\"id\")"
   ]
  },
  {
   "cell_type": "code",
   "execution_count": 30,
   "id": "2491b588-1df6-49b5-b384-ab76e6396dc8",
   "metadata": {},
   "outputs": [
    {
     "name": "stdout",
     "output_type": "stream",
     "text": [
      "+---+-----------+------------+----+----+-------+------------+\n",
      "| id|   hometown|        name|year|band|guitars|        name|\n",
      "+---+-----------+------------+----+----+-------+------------+\n",
      "|  1|     Sydney|       AC/DC|1973|   1|    [1]| Angus Young|\n",
      "|  0|     London|Led Zeppelin|1968|   0|    [0]|  Jimmy Page|\n",
      "|  3|Los Angeles|   Metallica|1981|   3|    [3]|Kirk Hammett|\n",
      "+---+-----------+------------+----+----+-------+------------+\n",
      "\n"
     ]
    },
    {
     "data": {
      "text/plain": [
       "bandPlayer: org.apache.spark.sql.DataFrame = [id: bigint, hometown: string ... 5 more fields]\n"
      ]
     },
     "execution_count": 30,
     "metadata": {},
     "output_type": "execute_result"
    }
   ],
   "source": [
    "// 1. INNER\n",
    "// val bandPlayer = band.join(player, band.col(\"id\") === player.col(\"id\"))\n",
    "val bandPlayer = band.join(player, joinCondition)\n",
    "bandPlayer.show()"
   ]
  },
  {
   "cell_type": "code",
   "execution_count": 31,
   "id": "f095f273-efe0-442e-9960-8cbf5ceecc76",
   "metadata": {},
   "outputs": [
    {
     "name": "stdout",
     "output_type": "stream",
     "text": [
      "+---+-----------+------------+----+----+-------+------------+\n",
      "| id|   hometown|        name|year|band|guitars|        name|\n",
      "+---+-----------+------------+----+----+-------+------------+\n",
      "|  1|     Sydney|       AC/DC|1973|   1|    [1]| Angus Young|\n",
      "|  0|     London|Led Zeppelin|1968|   0|    [0]|  Jimmy Page|\n",
      "|  3|Los Angeles|   Metallica|1981|   3|    [3]|Kirk Hammett|\n",
      "|  4|  Liverpool| The Beatles|1960|NULL|   NULL|        NULL|\n",
      "+---+-----------+------------+----+----+-------+------------+\n",
      "\n"
     ]
    }
   ],
   "source": [
    "// 2. LEFT OUTER\n",
    "band.join(player, joinCondition, \"left_outer\").show()"
   ]
  },
  {
   "cell_type": "code",
   "execution_count": 32,
   "id": "f637a1a0-3c8b-4844-9744-9303be622461",
   "metadata": {},
   "outputs": [
    {
     "name": "stdout",
     "output_type": "stream",
     "text": [
      "+---+-----------+------------+----+----+-------+------------+\n",
      "| id|   hometown|        name|year|band|guitars|        name|\n",
      "+---+-----------+------------+----+----+-------+------------+\n",
      "|  0|     London|Led Zeppelin|1968|   0|    [0]|  Jimmy Page|\n",
      "|  1|     Sydney|       AC/DC|1973|   1|    [1]| Angus Young|\n",
      "|  2|       NULL|        NULL|NULL|   2| [1, 5]|Eric Clapton|\n",
      "|  3|Los Angeles|   Metallica|1981|   3|    [3]|Kirk Hammett|\n",
      "+---+-----------+------------+----+----+-------+------------+\n",
      "\n"
     ]
    }
   ],
   "source": [
    "// 3. RIGHT OUTER\n",
    "band.join(player, joinCondition, \"right_outer\").show()"
   ]
  },
  {
   "cell_type": "code",
   "execution_count": 33,
   "id": "95e571da-6da2-4582-a781-9e235a6052c8",
   "metadata": {},
   "outputs": [
    {
     "name": "stdout",
     "output_type": "stream",
     "text": [
      "+---+-----------+------------+----+----+-------+------------+\n",
      "| id|   hometown|        name|year|band|guitars|        name|\n",
      "+---+-----------+------------+----+----+-------+------------+\n",
      "|  0|     London|Led Zeppelin|1968|   0|    [0]|  Jimmy Page|\n",
      "|  1|     Sydney|       AC/DC|1973|   1|    [1]| Angus Young|\n",
      "|  2|       NULL|        NULL|NULL|   2| [1, 5]|Eric Clapton|\n",
      "|  3|Los Angeles|   Metallica|1981|   3|    [3]|Kirk Hammett|\n",
      "|  4|  Liverpool| The Beatles|1960|NULL|   NULL|        NULL|\n",
      "+---+-----------+------------+----+----+-------+------------+\n",
      "\n"
     ]
    }
   ],
   "source": [
    "// 4. OUTER\n",
    "band.join(player, joinCondition, \"outer\").show()"
   ]
  },
  {
   "cell_type": "code",
   "execution_count": 34,
   "id": "33bf92a8-93dc-46b0-9f2d-f3e55a1a8d15",
   "metadata": {},
   "outputs": [
    {
     "name": "stdout",
     "output_type": "stream",
     "text": [
      "+---+-----------+------------+----+\n",
      "| id|   hometown|        name|year|\n",
      "+---+-----------+------------+----+\n",
      "|  1|     Sydney|       AC/DC|1973|\n",
      "|  0|     London|Led Zeppelin|1968|\n",
      "|  3|Los Angeles|   Metallica|1981|\n",
      "+---+-----------+------------+----+\n",
      "\n"
     ]
    }
   ],
   "source": [
    "// 5. LEFT SEMI\n",
    "band.join(player, joinCondition, \"left_semi\").show()"
   ]
  },
  {
   "cell_type": "code",
   "execution_count": 35,
   "id": "6d416821-df8c-4278-9287-30b5005b8461",
   "metadata": {},
   "outputs": [
    {
     "name": "stdout",
     "output_type": "stream",
     "text": [
      "+---+---------+-----------+----+\n",
      "| id| hometown|       name|year|\n",
      "+---+---------+-----------+----+\n",
      "|  4|Liverpool|The Beatles|1960|\n",
      "+---+---------+-----------+----+\n",
      "\n"
     ]
    }
   ],
   "source": [
    "// 6. LEFT ANITA\n",
    "band.join(player, joinCondition, \"left_anti\").show()"
   ]
  },
  {
   "cell_type": "code",
   "execution_count": null,
   "id": "902f02bd-1308-4743-b712-12a89eac8fd9",
   "metadata": {},
   "outputs": [],
   "source": [
    "// inner joins\n",
    "val joinCondition = player.col(\"band\") === band.col(\"id\")\n",
    "val guitaristsBandsDF = player.join(band, joinCondition, \"inner\")\n",
    "\n",
    "// outer joins\n",
    "// left outer = everything in the inner join + all the rows in the LEFT table, with nulls in where the data is missing\n",
    "player.join(band, joinCondition, \"left_outer\")\n",
    "\n",
    "// right outer = everything in the inner join + all the rows in the RIGHT table, with nulls in where the data is missing\n",
    "player.join(band, joinCondition, \"right_outer\")\n",
    "\n",
    "// outer join = everything in the inner join + all the rows in BOTH tables, with nulls in where the data is missing\n",
    "player.join(band, joinCondition, \"outer\")\n",
    "\n",
    "// semi-joins = everything in the left DF for which there is a row in the right DF satisfying the condition\n",
    "player.join(band, joinCondition, \"left_semi\")\n",
    "\n",
    "// anti-joins = everything in the left DF for which there is NO row in the right DF satisfying the condition\n",
    "player.join(band, joinCondition, \"left_anti\")"
   ]
  },
  {
   "cell_type": "code",
   "execution_count": null,
   "id": "9cb6abef-ef8b-425e-ae03-a6383efb87f0",
   "metadata": {},
   "outputs": [],
   "source": []
  },
  {
   "cell_type": "code",
   "execution_count": 8,
   "id": "d9fe6919-330b-44ac-981e-c5245d4953a5",
   "metadata": {},
   "outputs": [
    {
     "name": "stdout",
     "output_type": "stream",
     "text": [
      "+----+-------+---+------------+--------------------+--------+------+------------+\n",
      "|band|guitars| id|        name|          guitarType|guitarId|  make|       model|\n",
      "+----+-------+---+------------+--------------------+--------+------+------------+\n",
      "|   0|    [0]|  0|  Jimmy Page|Electric double-n...|       0|Gibson|    EDS-1275|\n",
      "|   2| [1, 5]|  2|Eric Clapton|            Electric|       5|Fender|Stratocaster|\n",
      "|   1|    [1]|  1| Angus Young|            Electric|       1|Gibson|          SG|\n",
      "|   2| [1, 5]|  2|Eric Clapton|            Electric|       1|Gibson|          SG|\n",
      "|   3|    [3]|  3|Kirk Hammett|            Electric|       3|   ESP|        M-II|\n",
      "+----+-------+---+------------+--------------------+--------+------+------------+\n",
      "\n"
     ]
    }
   ],
   "source": [
    "player.join(guitar.withColumnRenamed(\"id\", \"guitarId\"), expr(\"array_contains(guitars, guitarId)\")).show()"
   ]
  },
  {
   "cell_type": "code",
   "execution_count": null,
   "id": "421354d2-71f9-4012-93cd-94a911a24a3d",
   "metadata": {},
   "outputs": [],
   "source": []
  },
  {
   "cell_type": "code",
   "execution_count": null,
   "id": "00510b89-3830-4e23-afc9-a141e2d6c09f",
   "metadata": {},
   "outputs": [],
   "source": []
  },
  {
   "cell_type": "code",
   "execution_count": null,
   "id": "4ed16e96-2344-478e-bfe3-705e56789bb8",
   "metadata": {},
   "outputs": [],
   "source": []
  },
  {
   "cell_type": "code",
   "execution_count": null,
   "id": "d6674f3d-9aa3-4ddd-8f7d-1303494a3b32",
   "metadata": {},
   "outputs": [],
   "source": []
  },
  {
   "cell_type": "code",
   "execution_count": null,
   "id": "950d9efb-dfd2-4570-baee-1b782f8beea7",
   "metadata": {},
   "outputs": [],
   "source": []
  },
  {
   "cell_type": "code",
   "execution_count": null,
   "id": "ce5ffb5d-6e56-47e3-bd7e-324628b7c5d1",
   "metadata": {},
   "outputs": [],
   "source": []
  }
 ],
 "metadata": {
  "kernelspec": {
   "display_name": "spylon-kernel",
   "language": "scala",
   "name": "spylon-kernel"
  },
  "language_info": {
   "codemirror_mode": "text/x-scala",
   "file_extension": ".scala",
   "help_links": [
    {
     "text": "MetaKernel Magics",
     "url": "https://metakernel.readthedocs.io/en/latest/source/README.html"
    }
   ],
   "mimetype": "text/x-scala",
   "name": "scala",
   "pygments_lexer": "scala",
   "version": "0.4.1"
  }
 },
 "nbformat": 4,
 "nbformat_minor": 5
}
