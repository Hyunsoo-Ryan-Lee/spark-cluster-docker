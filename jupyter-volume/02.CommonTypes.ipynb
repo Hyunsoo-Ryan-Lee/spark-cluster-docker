{
 "cells": [
  {
   "cell_type": "code",
   "execution_count": 2,
   "id": "8cd7e7ce-b0cc-4de2-bab0-2c093a022073",
   "metadata": {},
   "outputs": [
    {
     "data": {
      "text/plain": [
       "import org.apache.spark.sql.SparkSession\n",
       "import org.apache.spark.sql.types._\n",
       "import org.apache.spark.sql.functions._\n",
       "import org.apache.spark.sql._\n",
       "spark: org.apache.spark.sql.SparkSession = org.apache.spark.sql.SparkSession@648583af\n"
      ]
     },
     "execution_count": 2,
     "metadata": {},
     "output_type": "execute_result"
    }
   ],
   "source": [
    "import org.apache.spark.sql.SparkSession\n",
    "import org.apache.spark.sql.types._\n",
    "import org.apache.spark.sql.functions._\n",
    "import org.apache.spark.sql._\n",
    "\n",
    "val spark = SparkSession.builder()\n",
    ".appName(\"types\")\n",
    ".getOrCreate()"
   ]
  },
  {
   "cell_type": "markdown",
   "id": "74a3ee66-7949-4a55-9c3a-fe5a159b050e",
   "metadata": {},
   "source": [
    "### Movies Data"
   ]
  },
  {
   "cell_type": "code",
   "execution_count": 4,
   "id": "ff9def2c-0f1a-4f13-8022-d149be091822",
   "metadata": {},
   "outputs": [
    {
     "name": "stdout",
     "output_type": "stream",
     "text": [
      "+-------------+--------+-----------+-----------+----------+-----------+-----------+-----------------+------------+----------------------+----------------+------+--------------------+------------+--------+---------------+\n",
      "|Creative_Type|Director|Distributor|IMDB_Rating|IMDB_Votes|MPAA_Rating|Major_Genre|Production_Budget|Release_Date|Rotten_Tomatoes_Rating|Running_Time_min|Source|               Title|US_DVD_Sales|US_Gross|Worldwide_Gross|\n",
      "+-------------+--------+-----------+-----------+----------+-----------+-----------+-----------------+------------+----------------------+----------------+------+--------------------+------------+--------+---------------+\n",
      "|         NULL|    NULL|   Gramercy|        6.1|      1071|          R|       NULL|          8000000|   12-Jun-98|                  NULL|            NULL|  NULL|      The Land Girls|        NULL|  146083|         146083|\n",
      "|         NULL|    NULL|     Strand|        6.9|       207|          R|      Drama|           300000|    7-Aug-98|                  NULL|            NULL|  NULL|First Love, Last ...|        NULL|   10876|          10876|\n",
      "+-------------+--------+-----------+-----------+----------+-----------+-----------+-----------------+------------+----------------------+----------------+------+--------------------+------------+--------+---------------+\n",
      "only showing top 2 rows\n",
      "\n"
     ]
    },
    {
     "data": {
      "text/plain": [
       "mv: org.apache.spark.sql.DataFrame = [Creative_Type: string, Director: string ... 14 more fields]\n"
      ]
     },
     "execution_count": 4,
     "metadata": {},
     "output_type": "execute_result"
    }
   ],
   "source": [
    "val mv = spark.read\n",
    "    .option(\"inferSchema\", \"true\")\n",
    "    .json(\"./dataset/movies.json\")\n",
    "\n",
    "mv.show(2)"
   ]
  },
  {
   "cell_type": "code",
   "execution_count": 5,
   "id": "bafae214-34c4-48a5-a3a8-ab71a43fec3c",
   "metadata": {},
   "outputs": [
    {
     "data": {
      "text/plain": [
       "dramaFilter: org.apache.spark.sql.Column = (Major_Genre = Drama)\n",
       "budgetFilter: org.apache.spark.sql.Column = (Production_Budget >= 400000)\n",
       "doubleFilter: org.apache.spark.sql.Column = ((Major_Genre = Drama) AND (Production_Budget >= 400000))\n"
      ]
     },
     "execution_count": 5,
     "metadata": {},
     "output_type": "execute_result"
    }
   ],
   "source": [
    "//Bool\n",
    "\n",
    "val dramaFilter = col(\"Major_Genre\") equalTo \"Drama\"\n",
    "val budgetFilter = col(\"Production_Budget\") >= 400000\n",
    "val doubleFilter = dramaFilter and budgetFilter"
   ]
  },
  {
   "cell_type": "code",
   "execution_count": 8,
   "id": "e5ec4e57-c500-45f8-9f30-4ac5719edcdf",
   "metadata": {},
   "outputs": [
    {
     "name": "stdout",
     "output_type": "stream",
     "text": [
      "+--------------------+--------------+--------------------+-----------+----------+-----------+-----------+-----------------+------------+----------------------+----------------+-------------------+--------------------+------------+--------+---------------+\n",
      "|       Creative_Type|      Director|         Distributor|IMDB_Rating|IMDB_Votes|MPAA_Rating|Major_Genre|Production_Budget|Release_Date|Rotten_Tomatoes_Rating|Running_Time_min|             Source|               Title|US_DVD_Sales|US_Gross|Worldwide_Gross|\n",
      "+--------------------+--------------+--------------------+-----------+----------+-----------+-----------+-----------------+------------+----------------------+----------------+-------------------+--------------------+------------+--------+---------------+\n",
      "|Contemporary Fiction|          NULL|             Trimark|        3.4|       165|          R|      Drama|          1000000|    9-Oct-98|                    62|            NULL|Original Screenplay|                Slam|        NULL| 1009819|        1087521|\n",
      "|     Science Fiction| Terry Gilliam|           Universal|        8.1|    169858|          R|      Drama|         29000000|   27-Dec-95|                  NULL|            NULL|Based on Short Film|      Twelve Monkeys|        NULL|57141459|      168841459|\n",
      "|  Historical Fiction|          NULL|       Sony/Columbia|        7.0|      4099|         PG|      Drama|          4000000|    9-Nov-72|                    57|            NULL|      Based on Play|                1776|        NULL|       0|              0|\n",
      "|Contemporary Fiction|Michael Polish|Sony Pictures Cla...|        7.1|      2810|          R|      Drama|           500000|   30-Jul-99|                    77|            NULL|Original Screenplay|    Twin Falls Idaho|        NULL|  985341|        1027228|\n",
      "|                NULL|          NULL|     Vitagraph Films|        6.0|       873|          R|      Drama|          1500000|   28-Sep-05|                  NULL|            NULL|Original Screenplay|Forty Shades of Blue|        NULL|   75828|         172569|\n",
      "+--------------------+--------------+--------------------+-----------+----------+-----------+-----------+-----------------+------------+----------------------+----------------+-------------------+--------------------+------------+--------+---------------+\n",
      "only showing top 5 rows\n",
      "\n"
     ]
    }
   ],
   "source": [
    "mv.filter(doubleFilter).show(5)"
   ]
  },
  {
   "cell_type": "code",
   "execution_count": 12,
   "id": "3cf51e54-ce11-4e99-ae65-8d1ea1ef2f13",
   "metadata": {},
   "outputs": [
    {
     "name": "stdout",
     "output_type": "stream",
     "text": [
      "+--------------------+--------+\n",
      "|               Title|my_movie|\n",
      "+--------------------+--------+\n",
      "|                Slam|    true|\n",
      "|      Twelve Monkeys|    true|\n",
      "|                1776|    true|\n",
      "|    Twin Falls Idaho|    true|\n",
      "|Forty Shades of Blue|    true|\n",
      "+--------------------+--------+\n",
      "only showing top 5 rows\n",
      "\n"
     ]
    },
    {
     "data": {
      "text/plain": [
       "myMovie: org.apache.spark.sql.DataFrame = [Title: string, my_movie: boolean]\n"
      ]
     },
     "execution_count": 12,
     "metadata": {},
     "output_type": "execute_result"
    }
   ],
   "source": [
    "mv.select(\"Title\").where(dramaFilter)\n",
    "\n",
    "val myMovie = mv.select(col(\"Title\"), doubleFilter.as(\"my_movie\"))\n",
    "myMovie.where(\"my_movie\").show(5)"
   ]
  },
  {
   "cell_type": "code",
   "execution_count": 15,
   "id": "8281ca63-dd5a-47a4-8fd9-91d25c777209",
   "metadata": {},
   "outputs": [
    {
     "name": "stdout",
     "output_type": "stream",
     "text": [
      "+--------------------+--------+-----------+-----------+----------+-----------+-----------+-----------------+------------+----------------------+----------------+-------------------+--------------------+------------+--------+---------------+----------+\n",
      "|       Creative_Type|Director|Distributor|IMDB_Rating|IMDB_Votes|MPAA_Rating|Major_Genre|Production_Budget|Release_Date|Rotten_Tomatoes_Rating|Running_Time_min|             Source|               Title|US_DVD_Sales|US_Gross|Worldwide_Gross|Avg_Rating|\n",
      "+--------------------+--------+-----------+-----------+----------+-----------+-----------+-----------------+------------+----------------------+----------------+-------------------+--------------------+------------+--------+---------------+----------+\n",
      "|                NULL|    NULL|   Gramercy|        6.1|      1071|          R|       NULL|          8000000|   12-Jun-98|                  NULL|            NULL|               NULL|      The Land Girls|        NULL|  146083|         146083|      NULL|\n",
      "|                NULL|    NULL|     Strand|        6.9|       207|          R|      Drama|           300000|    7-Aug-98|                  NULL|            NULL|               NULL|First Love, Last ...|        NULL|   10876|          10876|      NULL|\n",
      "|                NULL|    NULL|  Lionsgate|        6.8|       865|       NULL|     Comedy|           250000|   28-Aug-98|                  NULL|            NULL|               NULL|I Married a Stran...|        NULL|  203134|         203134|      NULL|\n",
      "|                NULL|    NULL|  Fine Line|       NULL|      NULL|       NULL|     Comedy|           300000|   11-Sep-98|                    13|            NULL|               NULL|Let's Talk About Sex|        NULL|  373615|         373615|      NULL|\n",
      "|Contemporary Fiction|    NULL|    Trimark|        3.4|       165|          R|      Drama|          1000000|    9-Oct-98|                    62|            NULL|Original Screenplay|                Slam|        NULL| 1009819|        1087521|       4.8|\n",
      "+--------------------+--------+-----------+-----------+----------+-----------+-----------+-----------------+------------+----------------------+----------------+-------------------+--------------------+------------+--------+---------------+----------+\n",
      "only showing top 5 rows\n",
      "\n"
     ]
    },
    {
     "data": {
      "text/plain": [
       "numberAdd: org.apache.spark.sql.Column = round((((Rotten_Tomatoes_Rating / 10) + IMDB_Rating) / 2), 2)\n"
      ]
     },
     "execution_count": 15,
     "metadata": {},
     "output_type": "execute_result"
    }
   ],
   "source": [
    "val numberAdd = round((col(\"Rotten_Tomatoes_Rating\")/10 + col(\"IMDB_Rating\"))/2, 2)\n",
    "\n",
    "mv.withColumn(\"Avg_Rating\", numberAdd).show(5)"
   ]
  },
  {
   "cell_type": "code",
   "execution_count": 16,
   "id": "b3fd2988-9531-4a83-9254-0bc76d10881f",
   "metadata": {},
   "outputs": [
    {
     "name": "stdout",
     "output_type": "stream",
     "text": [
      "0.4259708986248317\n"
     ]
    },
    {
     "data": {
      "text/plain": [
       "relMv: Double = 0.4259708986248317\n"
      ]
     },
     "execution_count": 16,
     "metadata": {},
     "output_type": "execute_result"
    }
   ],
   "source": [
    "// correlation\n",
    "\n",
    "val relMv = mv.stat.corr(\"Rotten_Tomatoes_Rating\", \"IMDB_Rating\")\n",
    "println(relMv)"
   ]
  },
  {
   "cell_type": "markdown",
   "id": "8980fb31-df8a-4019-9380-6774af2c0504",
   "metadata": {},
   "source": [
    "### Cars Data"
   ]
  },
  {
   "cell_type": "code",
   "execution_count": 4,
   "id": "028033b1-d353-4a60-979d-1df6a3362a78",
   "metadata": {},
   "outputs": [
    {
     "name": "stdout",
     "output_type": "stream",
     "text": [
      "+------------+---------+------------+----------+----------------+--------------------+------+-------------+----------+\n",
      "|Acceleration|Cylinders|Displacement|Horsepower|Miles_per_Gallon|                Name|Origin|Weight_in_lbs|      Year|\n",
      "+------------+---------+------------+----------+----------------+--------------------+------+-------------+----------+\n",
      "|        12.0|        8|       307.0|       130|            18.0|chevrolet chevell...|   USA|         3504|1970-01-01|\n",
      "|        11.5|        8|       350.0|       165|            15.0|   buick skylark 320|   USA|         3693|1970-01-01|\n",
      "|        11.0|        8|       318.0|       150|            18.0|  plymouth satellite|   USA|         3436|1970-01-01|\n",
      "+------------+---------+------------+----------+----------------+--------------------+------+-------------+----------+\n",
      "only showing top 3 rows\n",
      "\n"
     ]
    },
    {
     "data": {
      "text/plain": [
       "cars: org.apache.spark.sql.DataFrame = [Acceleration: double, Cylinders: bigint ... 7 more fields]\n"
      ]
     },
     "execution_count": 4,
     "metadata": {},
     "output_type": "execute_result"
    }
   ],
   "source": [
    "val cars = spark.read.option(\"inferSchema\", \"true\").json(\"./dataset/cars.json\")\n",
    "cars.show(3)"
   ]
  },
  {
   "cell_type": "code",
   "execution_count": 5,
   "id": "43a4549a-baca-40c4-9b61-94c7d0d567a6",
   "metadata": {},
   "outputs": [
    {
     "name": "stdout",
     "output_type": "stream",
     "text": [
      "+--------------------+\n",
      "|         upper(Name)|\n",
      "+--------------------+\n",
      "|CHEVROLET CHEVELL...|\n",
      "|   BUICK SKYLARK 320|\n",
      "|  PLYMOUTH SATELLITE|\n",
      "|       AMC REBEL SST|\n",
      "|         FORD TORINO|\n",
      "+--------------------+\n",
      "only showing top 5 rows\n",
      "\n"
     ]
    }
   ],
   "source": [
    "// initcap -> 첫 단어를 대문자로\n",
    "// lower <-> upper\n",
    "\n",
    "cars.select(initcap(col(\"Name\")))\n",
    "\n",
    "cars.select(upper(col(\"Name\"))).show(5)"
   ]
  },
  {
   "cell_type": "code",
   "execution_count": 6,
   "id": "ce209409-fab5-40f8-b625-a08340c1d793",
   "metadata": {},
   "outputs": [
    {
     "name": "stdout",
     "output_type": "stream",
     "text": [
      "+------------+---------+------------+----------+----------------+----------------------------+------+-------------+----------+\n",
      "|Acceleration|Cylinders|Displacement|Horsepower|Miles_per_Gallon|Name                        |Origin|Weight_in_lbs|Year      |\n",
      "+------------+---------+------------+----------+----------------+----------------------------+------+-------------+----------+\n",
      "|20.5        |4        |97.0        |46        |26.0            |volkswagen 1131 deluxe sedan|Europe|1835         |1970-01-01|\n",
      "|20.0        |4        |97.0        |48        |NULL            |volkswagen super beetle 117 |Europe|1978         |1971-01-01|\n",
      "|19.0        |4        |97.0        |60        |27.0            |volkswagen model 111        |Europe|1834         |1971-01-01|\n",
      "|23.5        |4        |97.0        |54        |23.0            |volkswagen type 3           |Europe|2254         |1972-01-01|\n",
      "|18.0        |4        |121.0       |76        |22.0            |volkswagen 411 (sw)         |Europe|2511         |1972-01-01|\n",
      "+------------+---------+------------+----------+----------------+----------------------------+------+-------------+----------+\n",
      "only showing top 5 rows\n",
      "\n"
     ]
    }
   ],
   "source": [
    "// contains\n",
    "\n",
    "cars.select(\"*\").filter(col(\"Name\").contains(\"volkswagen\")).show(5, truncate=false)"
   ]
  },
  {
   "cell_type": "code",
   "execution_count": 7,
   "id": "6a646a3b-5996-4454-9955-3e9cf9fa2b43",
   "metadata": {},
   "outputs": [
    {
     "name": "stdout",
     "output_type": "stream",
     "text": [
      "+--------------------+----------+\n",
      "|                Name|   reg_ext|\n",
      "+--------------------+----------+\n",
      "|volkswagen 1131 d...|volkswagen|\n",
      "|volkswagen super ...|volkswagen|\n",
      "|volkswagen model 111|volkswagen|\n",
      "|   volkswagen type 3|volkswagen|\n",
      "| volkswagen 411 (sw)|volkswagen|\n",
      "+--------------------+----------+\n",
      "only showing top 5 rows\n",
      "\n"
     ]
    },
    {
     "data": {
      "text/plain": [
       "regexString: String = volkswagen|vw\n",
       "vwDf: org.apache.spark.sql.Dataset[org.apache.spark.sql.Row] = [Name: string, reg_ext: string]\n"
      ]
     },
     "execution_count": 7,
     "metadata": {},
     "output_type": "execute_result"
    }
   ],
   "source": [
    "//regex\n",
    "\n",
    "val regexString = \"volkswagen|vw\"\n",
    "val vwDf = cars.select(col(\"Name\"), regexp_extract(col(\"Name\"), regexString, 0).as(\"reg_ext\"))\n",
    "                       .filter(col(\"reg_ext\") =!= \"\")\n",
    "vwDf.show(5)"
   ]
  },
  {
   "cell_type": "code",
   "execution_count": 42,
   "id": "59c4f4ca-d4c2-4c78-bbc0-ca683aa6c4bc",
   "metadata": {},
   "outputs": [
    {
     "name": "stdout",
     "output_type": "stream",
     "text": [
      "+--------------------+-----------+\n",
      "|                Name|reg_replace|\n",
      "+--------------------+-----------+\n",
      "|volkswagen 1131 d...|Fixed_Value|\n",
      "|volkswagen super ...|Fixed_Value|\n",
      "|volkswagen model 111|Fixed_Value|\n",
      "|   volkswagen type 3|Fixed_Value|\n",
      "| volkswagen 411 (sw)|Fixed_Value|\n",
      "+--------------------+-----------+\n",
      "only showing top 5 rows\n",
      "\n"
     ]
    }
   ],
   "source": [
    "// regexp_replace -> 특정 정규식에 부합하는 문자를 replace 한다.\n",
    "\n",
    "vwDf.select(col(\"Name\"), regexp_replace(col(\"reg_ext\"), regexString, \"Fixed_Value\").as(\"reg_replace\")).show(5)"
   ]
  },
  {
   "cell_type": "code",
   "execution_count": 62,
   "id": "a329c006-56dd-43f2-adcb-cbe96719cd1d",
   "metadata": {},
   "outputs": [
    {
     "name": "stdout",
     "output_type": "stream",
     "text": [
      "+---------+-----+\n",
      "|    Brand|count|\n",
      "+---------+-----+\n",
      "|    buick|   17|\n",
      "|  pontiac|   16|\n",
      "| mercedes|    1|\n",
      "|   toyota|   25|\n",
      "|     saab|    5|\n",
      "|      amc|   29|\n",
      "|       vw|    6|\n",
      "|  peugeot|    8|\n",
      "| chrysler|    6|\n",
      "| plymouth|   32|\n",
      "|vokswagen|    1|\n",
      "|  citroen|    1|\n",
      "|    chevy|    3|\n",
      "|     audi|    7|\n",
      "|   datsun|   23|\n",
      "|      bmw|    2|\n",
      "|    dodge|   28|\n",
      "|     ford|   53|\n",
      "|  toyouta|    1|\n",
      "|    capri|    1|\n",
      "+---------+-----+\n",
      "only showing top 20 rows\n",
      "\n"
     ]
    }
   ],
   "source": [
    "// name의 첫 단어만 추출하여 brand 컬럼으로 만들고 group by count\n",
    "cars.withColumn(\"Brand\", split(col(\"Name\"),\" \").getItem(0)).groupBy(\"Brand\").count().show()"
   ]
  },
  {
   "cell_type": "code",
   "execution_count": 9,
   "id": "58531cfa-730e-4fd8-a0ba-3f6c44ccda72",
   "metadata": {},
   "outputs": [
    {
     "data": {
      "text/plain": [
       "extractCars: (brand: String)org.apache.spark.sql.Dataset[org.apache.spark.sql.Row]\n"
      ]
     },
     "execution_count": 9,
     "metadata": {},
     "output_type": "execute_result"
    }
   ],
   "source": [
    "def extractCars(brand: String) = {\n",
    "    val df = cars.select(col(\"Name\"), regexp_extract(col(\"Name\"), brand, 0).as(\"brand\")).filter(col(\"brand\")=!=\"\")\n",
    "    df                   \n",
    "}"
   ]
  },
  {
   "cell_type": "code",
   "execution_count": 10,
   "id": "1903ca65-1cc5-4efa-815d-687d1eb4a8e5",
   "metadata": {},
   "outputs": [
    {
     "name": "stdout",
     "output_type": "stream",
     "text": [
      "+------------------+-----+\n",
      "|              Name|brand|\n",
      "+------------------+-----+\n",
      "|mercedes-benz 280s| benz|\n",
      "|mercedes benz 300d| benz|\n",
      "|mercedes-benz 240d| benz|\n",
      "+------------------+-----+\n",
      "\n"
     ]
    },
    {
     "data": {
      "text/plain": [
       "test1: org.apache.spark.sql.Dataset[org.apache.spark.sql.Row] = [Name: string, brand: string]\n"
      ]
     },
     "execution_count": 10,
     "metadata": {},
     "output_type": "execute_result"
    }
   ],
   "source": [
    "val test1 = extractCars(\"benz\")\n",
    "test1.show()"
   ]
  },
  {
   "cell_type": "code",
   "execution_count": 14,
   "id": "e3b443ba-9729-4460-a6bf-0319fbeca129",
   "metadata": {},
   "outputs": [
    {
     "name": "stdout",
     "output_type": "stream",
     "text": [
      "audi|bmw|benz\n"
     ]
    },
    {
     "data": {
      "text/plain": [
       "getCarNames: List[String] = List(audi, bmw, benz)\n",
       "carMap: List[String] = List(audi, bmw, benz)\n",
       "joinMap: String = audi|bmw|benz\n"
      ]
     },
     "execution_count": 14,
     "metadata": {},
     "output_type": "execute_result"
    }
   ],
   "source": [
    "// 예제\n",
    "\n",
    "val getCarNames: List[String] = List(\"audi\", \"bmw\", \"benz\")\n",
    "\n",
    "val carMap = getCarNames.map(_.toLowerCase())\n",
    "\n",
    "val joinMap = carMap.mkString(\"|\")\n",
    "println(joinMap)"
   ]
  },
  {
   "cell_type": "code",
   "execution_count": 16,
   "id": "a91d1d09-bf06-4c21-be42-79141de9b3a7",
   "metadata": {},
   "outputs": [
    {
     "name": "stdout",
     "output_type": "stream",
     "text": [
      "+-------------------+--------+\n",
      "|               Name|filtered|\n",
      "+-------------------+--------+\n",
      "|        audi 100 ls|    audi|\n",
      "|           bmw 2002|     bmw|\n",
      "|         audi 100ls|    audi|\n",
      "|           audi fox|    audi|\n",
      "|         audi 100ls|    audi|\n",
      "| mercedes-benz 280s|    benz|\n",
      "|           bmw 320i|     bmw|\n",
      "|          audi 5000|    audi|\n",
      "| mercedes benz 300d|    benz|\n",
      "|          audi 4000|    audi|\n",
      "|audi 5000s (diesel)|    audi|\n",
      "| mercedes-benz 240d|    benz|\n",
      "+-------------------+--------+\n",
      "\n"
     ]
    },
    {
     "data": {
      "text/plain": [
       "mapdf: org.apache.spark.sql.Dataset[org.apache.spark.sql.Row] = [Name: string, filtered: string]\n"
      ]
     },
     "execution_count": 16,
     "metadata": {},
     "output_type": "execute_result"
    }
   ],
   "source": [
    "val mapdf = cars.select(col(\"Name\"), regexp_extract(col(\"Name\"), joinMap, 0).as(\"filtered\"))\n",
    "            .where(col(\"filtered\")=!=\"\")\n",
    "\n",
    "mapdf.show()"
   ]
  },
  {
   "cell_type": "code",
   "execution_count": 26,
   "id": "81dc3b36-6d83-4fe7-af1f-5593bffe51ed",
   "metadata": {},
   "outputs": [
    {
     "data": {
      "text/plain": [
       "test: List[String] = List(audi!!, bmw!!, benz!!)\n",
       "res20: String = ddaudi!!bmw!!benz!!\n"
      ]
     },
     "execution_count": 26,
     "metadata": {},
     "output_type": "execute_result"
    }
   ],
   "source": [
    "val test = getCarNames.map(_.toLowerCase()).map(name => name+\"!!\")\n",
    "\n",
    "test.fold(\"dd\")(_+_)"
   ]
  },
  {
   "cell_type": "code",
   "execution_count": 29,
   "id": "cf22d1b3-4dd7-4e5c-b787-f1007708e872",
   "metadata": {},
   "outputs": [
    {
     "name": "stdout",
     "output_type": "stream",
     "text": [
      "+------------+---------+------------+----------+----------------+--------------------+------+-------------+----------+\n",
      "|Acceleration|Cylinders|Displacement|Horsepower|Miles_per_Gallon|                Name|Origin|Weight_in_lbs|      Year|\n",
      "+------------+---------+------------+----------+----------------+--------------------+------+-------------+----------+\n",
      "|        12.0|        8|       307.0|       130|            18.0|chevrolet chevell...|   USA|         3504|1970-01-01|\n",
      "|        11.5|        8|       350.0|       165|            15.0|   buick skylark 320|   USA|         3693|1970-01-01|\n",
      "|        11.0|        8|       318.0|       150|            18.0|  plymouth satellite|   USA|         3436|1970-01-01|\n",
      "|        12.0|        8|       304.0|       150|            16.0|       amc rebel sst|   USA|         3433|1970-01-01|\n",
      "|        10.5|        8|       302.0|       140|            17.0|         ford torino|   USA|         3449|1970-01-01|\n",
      "|        10.0|        8|       429.0|       198|            15.0|    ford galaxie 500|   USA|         4341|1970-01-01|\n",
      "|         9.0|        8|       454.0|       220|            14.0|    chevrolet impala|   USA|         4354|1970-01-01|\n",
      "|         8.5|        8|       440.0|       215|            14.0|   plymouth fury iii|   USA|         4312|1970-01-01|\n",
      "|        10.0|        8|       455.0|       225|            14.0|    pontiac catalina|   USA|         4425|1970-01-01|\n",
      "|         8.5|        8|       390.0|       190|            15.0|  amc ambassador dpl|   USA|         3850|1970-01-01|\n",
      "|        17.5|        4|       133.0|       115|            NULL|citroen ds-21 pallas|Europe|         3090|1970-01-01|\n",
      "|        11.5|        8|       350.0|       165|            NULL|chevrolet chevell...|   USA|         4142|1970-01-01|\n",
      "|        11.0|        8|       351.0|       153|            NULL|    ford torino (sw)|   USA|         4034|1970-01-01|\n",
      "|        10.5|        8|       383.0|       175|            NULL|plymouth satellit...|   USA|         4166|1970-01-01|\n",
      "|        11.0|        8|       360.0|       175|            NULL|  amc rebel sst (sw)|   USA|         3850|1970-01-01|\n",
      "|        10.0|        8|       383.0|       170|            15.0| dodge challenger se|   USA|         3563|1970-01-01|\n",
      "|         8.0|        8|       340.0|       160|            14.0|  plymouth 'cuda 340|   USA|         3609|1970-01-01|\n",
      "|         8.0|        8|       302.0|       140|            NULL|ford mustang boss...|   USA|         3353|1970-01-01|\n",
      "|         9.5|        8|       400.0|       150|            15.0|chevrolet monte c...|   USA|         3761|1970-01-01|\n",
      "|        10.0|        8|       455.0|       225|            14.0|buick estate wago...|   USA|         3086|1970-01-01|\n",
      "+------------+---------+------------+----------+----------------+--------------------+------+-------------+----------+\n",
      "only showing top 20 rows\n",
      "\n"
     ]
    }
   ],
   "source": [
    "cars.show()"
   ]
  },
  {
   "cell_type": "code",
   "execution_count": 42,
   "id": "b32cf613-d034-4168-ab4a-6c57cdce4814",
   "metadata": {},
   "outputs": [
    {
     "data": {
      "text/plain": [
       "carNameFilter: List[org.apache.spark.sql.Column] = List(contains(Name, audi), contains(Name, bmw), contains(Name, benz))\n",
       "cyFilter: org.apache.spark.sql.Column = (Cylinders = 4)\n",
       "bigFilter: org.apache.spark.sql.Column = (((false OR contains(Name, audi)) OR contains(Name, bmw)) OR contains(Name, benz))\n",
       "res34: org.apache.spark.sql.Column = (((false OR contains(Name, audi)) OR contains(Name, bmw)) OR contains(Name, benz))\n"
      ]
     },
     "execution_count": 42,
     "metadata": {},
     "output_type": "execute_result"
    }
   ],
   "source": [
    "val carNameFilter = getCarNames.map(_.toLowerCase()).map(name => col(\"Name\").contains(name))\n",
    "val cyFilter = col(\"Cylinders\") === 4\n",
    "val bigFilter = carNameFilter.fold(lit(false))((carNameFilter, cyFilter) => carNameFilter or cyFilter)\n",
    "\n",
    "// cars.where(carNameFilter).show()"
   ]
  },
  {
   "cell_type": "code",
   "execution_count": 47,
   "id": "b7e9f18a-7322-4665-8ca2-9bcb5a997609",
   "metadata": {},
   "outputs": [
    {
     "data": {
      "text/plain": [
       "bigFilter1: org.apache.spark.sql.Column = (((false OR contains(Name, audi)) OR contains(Name, bmw)) OR contains(Name, benz))\n"
      ]
     },
     "execution_count": 47,
     "metadata": {},
     "output_type": "execute_result"
    }
   ],
   "source": [
    "val bigFilter1 = carNameFilter.fold(lit(false))((combinedFilter, newCarNameFilter) => combinedFilter or newCarNameFilter)"
   ]
  },
  {
   "cell_type": "code",
   "execution_count": 43,
   "id": "35b8f391-3cab-4377-a471-f020ef60f3a5",
   "metadata": {},
   "outputs": [
    {
     "name": "stdout",
     "output_type": "stream",
     "text": [
      "+------------+---------+------------+----------+----------------+-------------------+------+-------------+----------+\n",
      "|Acceleration|Cylinders|Displacement|Horsepower|Miles_per_Gallon|               Name|Origin|Weight_in_lbs|      Year|\n",
      "+------------+---------+------------+----------+----------------+-------------------+------+-------------+----------+\n",
      "|        14.5|        4|       107.0|        90|            24.0|        audi 100 ls|Europe|         2430|1970-01-01|\n",
      "|        12.5|        4|       121.0|       113|            26.0|           bmw 2002|Europe|         2234|1970-01-01|\n",
      "|        14.0|        4|       114.0|        91|            20.0|         audi 100ls|Europe|         2582|1973-01-01|\n",
      "|        16.5|        4|        98.0|        83|            29.0|           audi fox|Europe|         2219|1974-01-01|\n",
      "|        15.0|        4|       115.0|        95|            23.0|         audi 100ls|Europe|         2694|1975-01-01|\n",
      "|        16.7|        6|       168.0|       120|            16.5| mercedes-benz 280s|Europe|         3820|1976-01-01|\n",
      "|        12.8|        4|       121.0|       110|            21.5|           bmw 320i|Europe|         2600|1977-01-01|\n",
      "|        15.9|        5|       131.0|       103|            20.3|          audi 5000|Europe|         2830|1978-01-01|\n",
      "|        20.1|        5|       183.0|        77|            25.4| mercedes benz 300d|Europe|         3530|1979-01-01|\n",
      "|        15.8|        4|        97.0|        78|            34.3|          audi 4000|Europe|         2188|1980-01-01|\n",
      "|        19.9|        5|       121.0|        67|            36.4|audi 5000s (diesel)|Europe|         2950|1980-01-01|\n",
      "|        21.8|        4|       146.0|        67|            30.0| mercedes-benz 240d|Europe|         3250|1980-01-01|\n",
      "+------------+---------+------------+----------+----------------+-------------------+------+-------------+----------+\n",
      "\n"
     ]
    }
   ],
   "source": [
    "  cars.filter(bigFilter1).show()"
   ]
  }
 ],
 "metadata": {
  "kernelspec": {
   "display_name": "spylon-kernel",
   "language": "scala",
   "name": "spylon-kernel"
  },
  "language_info": {
   "codemirror_mode": "text/x-scala",
   "file_extension": ".scala",
   "help_links": [
    {
     "text": "MetaKernel Magics",
     "url": "https://metakernel.readthedocs.io/en/latest/source/README.html"
    }
   ],
   "mimetype": "text/x-scala",
   "name": "scala",
   "pygments_lexer": "scala",
   "version": "0.4.1"
  }
 },
 "nbformat": 4,
 "nbformat_minor": 5
}
