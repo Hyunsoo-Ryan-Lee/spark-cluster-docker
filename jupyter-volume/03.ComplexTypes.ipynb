{
 "cells": [
  {
   "cell_type": "code",
   "execution_count": 13,
   "id": "5542d7f6-2b92-47ff-bc43-33e2f02bd092",
   "metadata": {},
   "outputs": [
    {
     "data": {
      "text/plain": [
       "import org.apache.spark.sql.SparkSession\n",
       "import org.apache.spark.sql.types._\n",
       "import org.apache.spark.sql.functions._\n",
       "import org.apache.spark.sql._\n",
       "spark: org.apache.spark.sql.SparkSession = org.apache.spark.sql.SparkSession@438165ae\n"
      ]
     },
     "execution_count": 13,
     "metadata": {},
     "output_type": "execute_result"
    }
   ],
   "source": [
    "import org.apache.spark.sql.SparkSession\n",
    "import org.apache.spark.sql.types._\n",
    "import org.apache.spark.sql.functions._\n",
    "import org.apache.spark.sql._\n",
    "\n",
    "val spark = SparkSession.builder()\n",
    ".appName(\"types\")\n",
    ".getOrCreate()"
   ]
  },
  {
   "cell_type": "markdown",
   "id": "58f0858a-2886-4c71-8ecb-254f0f7b7286",
   "metadata": {},
   "source": [
    "## Movies Data"
   ]
  },
  {
   "cell_type": "code",
   "execution_count": 14,
   "id": "239ae526-27cd-42e2-ac2b-b252900ee0bf",
   "metadata": {},
   "outputs": [
    {
     "name": "stdout",
     "output_type": "stream",
     "text": [
      "+-------------+--------+-----------+-----------+----------+-----------+-----------+-----------------+------------+----------------------+----------------+------+--------------------+------------+--------+---------------+\n",
      "|Creative_Type|Director|Distributor|IMDB_Rating|IMDB_Votes|MPAA_Rating|Major_Genre|Production_Budget|Release_Date|Rotten_Tomatoes_Rating|Running_Time_min|Source|               Title|US_DVD_Sales|US_Gross|Worldwide_Gross|\n",
      "+-------------+--------+-----------+-----------+----------+-----------+-----------+-----------------+------------+----------------------+----------------+------+--------------------+------------+--------+---------------+\n",
      "|         NULL|    NULL|   Gramercy|        6.1|      1071|          R|       NULL|          8000000|   12-Jun-98|                  NULL|            NULL|  NULL|      The Land Girls|        NULL|  146083|         146083|\n",
      "|         NULL|    NULL|     Strand|        6.9|       207|          R|      Drama|           300000|    7-Aug-98|                  NULL|            NULL|  NULL|First Love, Last ...|        NULL|   10876|          10876|\n",
      "+-------------+--------+-----------+-----------+----------+-----------+-----------+-----------------+------------+----------------------+----------------+------+--------------------+------------+--------+---------------+\n",
      "only showing top 2 rows\n",
      "\n"
     ]
    },
    {
     "data": {
      "text/plain": [
       "mv: org.apache.spark.sql.DataFrame = [Creative_Type: string, Director: string ... 14 more fields]\n"
      ]
     },
     "execution_count": 14,
     "metadata": {},
     "output_type": "execute_result"
    }
   ],
   "source": [
    "val mv = spark.read\n",
    "    .option(\"inferSchema\", \"true\")\n",
    "    .json(\"./dataset/movies.json\")\n",
    "\n",
    "mv.show(2)"
   ]
  },
  {
   "cell_type": "code",
   "execution_count": 16,
   "id": "2393538d-db6a-4a45-ad71-73a061bf3f28",
   "metadata": {},
   "outputs": [
    {
     "data": {
      "text/plain": [
       "mv1: org.apache.spark.sql.DataFrame = [Title: string, Actual_Release: date]\n"
      ]
     },
     "execution_count": 16,
     "metadata": {},
     "output_type": "execute_result"
    }
   ],
   "source": [
    "spark.conf.set(\"spark.sql.legacy.timeParserPolicy\",\"LEGACY\")\n",
    "val mv1 = mv.select(col(\"Title\"), to_date(col(\"Release_Date\"), \"dd-MMM-yy\").as(\"Actual_Release\"))"
   ]
  },
  {
   "cell_type": "code",
   "execution_count": 18,
   "id": "4c788bac-b03f-456f-ab38-77703c473e12",
   "metadata": {},
   "outputs": [
    {
     "name": "stdout",
     "output_type": "stream",
     "text": [
      "+--------------------+--------------+----------+--------------------+--------+\n",
      "|               Title|Actual_Release|     Today|                 Now|yearDiff|\n",
      "+--------------------+--------------+----------+--------------------+--------+\n",
      "|      The Land Girls|    1998-06-12|2024-01-30|2024-01-30 05:27:...|   25.65|\n",
      "|First Love, Last ...|    1998-08-07|2024-01-30|2024-01-30 05:27:...|    25.5|\n",
      "|I Married a Stran...|    1998-08-28|2024-01-30|2024-01-30 05:27:...|   25.44|\n",
      "|Let's Talk About Sex|    1998-09-11|2024-01-30|2024-01-30 05:27:...|    25.4|\n",
      "|                Slam|    1998-10-09|2024-01-30|2024-01-30 05:27:...|   25.33|\n",
      "| Mississippi Mermaid|    1999-01-15|2024-01-30|2024-01-30 05:27:...|   25.06|\n",
      "|           Following|    1999-04-04|2024-01-30|2024-01-30 05:27:...|   24.84|\n",
      "|             Foolish|    1999-04-09|2024-01-30|2024-01-30 05:27:...|   24.83|\n",
      "|             Pirates|    1986-07-01|2024-01-30|2024-01-30 05:27:...|   37.61|\n",
      "|     Duel in the Sun|    1946-12-31|2024-01-30|2024-01-30 05:27:...|   77.13|\n",
      "|           Tom Jones|    1963-10-07|2024-01-30|2024-01-30 05:27:...|   60.36|\n",
      "|             Oliver!|    1968-12-11|2024-01-30|2024-01-30 05:27:...|   55.17|\n",
      "|To Kill A Mocking...|    1962-12-25|2024-01-30|2024-01-30 05:27:...|   61.14|\n",
      "|    Tora, Tora, Tora|    1970-09-23|2024-01-30|2024-01-30 05:27:...|   53.39|\n",
      "|   Hollywood Shuffle|    1987-03-01|2024-01-30|2024-01-30 05:27:...|   36.94|\n",
      "|Over the Hill to ...|    2020-09-17|2024-01-30|2024-01-30 05:27:...|    3.37|\n",
      "|              Wilson|    1944-08-01|2024-01-30|2024-01-30 05:27:...|   79.55|\n",
      "|        Darling Lili|    1970-01-01|2024-01-30|2024-01-30 05:27:...|   54.12|\n",
      "|The Ten Commandments|    1956-10-05|2024-01-30|2024-01-30 05:27:...|   67.36|\n",
      "|        12 Angry Men|    1957-04-13|2024-01-30|2024-01-30 05:27:...|   66.84|\n",
      "+--------------------+--------------+----------+--------------------+--------+\n",
      "only showing top 20 rows\n",
      "\n"
     ]
    },
    {
     "data": {
      "text/plain": [
       "mv2: org.apache.spark.sql.DataFrame = [Title: string, Actual_Release: date ... 3 more fields]\n"
      ]
     },
     "execution_count": 18,
     "metadata": {},
     "output_type": "execute_result"
    }
   ],
   "source": [
    "val mv2 = mv1\n",
    "    .withColumn(\"Today\", current_date())\n",
    "    .withColumn(\"Now\", current_timestamp())\n",
    "    .withColumn(\"yearDiff\", round(datediff(col(\"Today\"), col(\"Actual_Release\"))/365, 2))\n",
    "\n",
    "mv2.show()"
   ]
  },
  {
   "cell_type": "code",
   "execution_count": null,
   "id": "29e1f076-c8d9-4ac2-b25e-d6254cba9f84",
   "metadata": {},
   "outputs": [],
   "source": []
  },
  {
   "cell_type": "markdown",
   "id": "9c238e2d-9aea-474c-976f-eeed6954d774",
   "metadata": {},
   "source": [
    "## Stock Data"
   ]
  },
  {
   "cell_type": "code",
   "execution_count": 22,
   "id": "75d5e96a-b825-412e-9a98-f7153fbddf5d",
   "metadata": {},
   "outputs": [
    {
     "data": {
      "text/plain": [
       "stock: org.apache.spark.sql.DataFrame = [symbol: string, date: string ... 1 more field]\n"
      ]
     },
     "execution_count": 22,
     "metadata": {},
     "output_type": "execute_result"
    }
   ],
   "source": [
    "val stock = spark.read\n",
    "    .option(\"inferSchema\", \"true\")\n",
    "    .option(\"header\", \"true\")\n",
    "    .csv(\"./dataset/stocks.csv\")"
   ]
  },
  {
   "cell_type": "code",
   "execution_count": 23,
   "id": "67045798-8916-4315-a5fc-cb8816bc32ce",
   "metadata": {},
   "outputs": [
    {
     "name": "stdout",
     "output_type": "stream",
     "text": [
      "+------+----------+-----+\n",
      "|symbol|      date|price|\n",
      "+------+----------+-----+\n",
      "|  MSFT|Jan 1 2000|39.81|\n",
      "|  MSFT|Feb 1 2000|36.35|\n",
      "|  MSFT|Mar 1 2000|43.22|\n",
      "|  MSFT|Apr 1 2000|28.37|\n",
      "|  MSFT|May 1 2000|25.45|\n",
      "|  MSFT|Jun 1 2000|32.54|\n",
      "|  MSFT|Jul 1 2000| 28.4|\n",
      "|  MSFT|Aug 1 2000| 28.4|\n",
      "|  MSFT|Sep 1 2000|24.53|\n",
      "|  MSFT|Oct 1 2000|28.02|\n",
      "|  MSFT|Nov 1 2000|23.34|\n",
      "|  MSFT|Dec 1 2000|17.65|\n",
      "|  MSFT|Jan 1 2001|24.84|\n",
      "|  MSFT|Feb 1 2001| 24.0|\n",
      "|  MSFT|Mar 1 2001|22.25|\n",
      "|  MSFT|Apr 1 2001|27.56|\n",
      "|  MSFT|May 1 2001|28.14|\n",
      "|  MSFT|Jun 1 2001| 29.7|\n",
      "|  MSFT|Jul 1 2001|26.93|\n",
      "|  MSFT|Aug 1 2001|23.21|\n",
      "+------+----------+-----+\n",
      "only showing top 20 rows\n",
      "\n"
     ]
    }
   ],
   "source": [
    "stock.show()"
   ]
  },
  {
   "cell_type": "code",
   "execution_count": 25,
   "id": "8ca561a1-1dd3-4bf6-a73a-683296e6eaac",
   "metadata": {},
   "outputs": [
    {
     "name": "stdout",
     "output_type": "stream",
     "text": [
      "+------+----------+-----+----------+\n",
      "|symbol|      date|price|   to_date|\n",
      "+------+----------+-----+----------+\n",
      "|  MSFT|Jan 1 2000|39.81|2000-01-01|\n",
      "|  MSFT|Feb 1 2000|36.35|2000-02-01|\n",
      "|  MSFT|Mar 1 2000|43.22|2000-03-01|\n",
      "|  MSFT|Apr 1 2000|28.37|2000-04-01|\n",
      "|  MSFT|May 1 2000|25.45|2000-05-01|\n",
      "+------+----------+-----+----------+\n",
      "only showing top 5 rows\n",
      "\n"
     ]
    },
    {
     "data": {
      "text/plain": [
       "st1: org.apache.spark.sql.DataFrame = [symbol: string, date: string ... 2 more fields]\n"
      ]
     },
     "execution_count": 25,
     "metadata": {},
     "output_type": "execute_result"
    }
   ],
   "source": [
    "spark.conf.set(\"spark.sql.legacy.timeParserPolicy\",\"LEGACY\")\n",
    "val st1 = stock.withColumn(\"to_date\", to_date(col(\"date\"), \"MMM dd yyyy\"))\n",
    "st1.show(5)"
   ]
  },
  {
   "cell_type": "code",
   "execution_count": 31,
   "id": "6132b9d0-af9b-4f6b-b871-c25172466b60",
   "metadata": {},
   "outputs": [
    {
     "name": "stdout",
     "output_type": "stream",
     "text": [
      "+------+----------+-----+----------+-------------------------+\n",
      "|symbol|date      |price|to_date   |struct                   |\n",
      "+------+----------+-----+----------+-------------------------+\n",
      "|MSFT  |Jan 1 2000|39.81|2000-01-01|{MSFT, 39.81, 2000-01-01}|\n",
      "|MSFT  |Feb 1 2000|36.35|2000-02-01|{MSFT, 36.35, 2000-02-01}|\n",
      "|MSFT  |Mar 1 2000|43.22|2000-03-01|{MSFT, 43.22, 2000-03-01}|\n",
      "|MSFT  |Apr 1 2000|28.37|2000-04-01|{MSFT, 28.37, 2000-04-01}|\n",
      "|MSFT  |May 1 2000|25.45|2000-05-01|{MSFT, 25.45, 2000-05-01}|\n",
      "+------+----------+-----+----------+-------------------------+\n",
      "only showing top 5 rows\n",
      "\n"
     ]
    },
    {
     "data": {
      "text/plain": [
       "st2: org.apache.spark.sql.DataFrame = [symbol: string, date: string ... 3 more fields]\n"
      ]
     },
     "execution_count": 31,
     "metadata": {},
     "output_type": "execute_result"
    }
   ],
   "source": [
    "// struct\n",
    "\n",
    "val st2 = st1.withColumn(\"struct\", struct(col(\"symbol\"), col(\"price\"), col(\"to_date\")))\n",
    "st2.show(5, false)"
   ]
  },
  {
   "cell_type": "code",
   "execution_count": 32,
   "id": "5cf98da9-5776-41d8-b66d-b7fed623f7a4",
   "metadata": {},
   "outputs": [
    {
     "name": "stdout",
     "output_type": "stream",
     "text": [
      "+------+----------+-----+----------+-------------------------+------------+\n",
      "|symbol|date      |price|to_date   |struct                   |struct_price|\n",
      "+------+----------+-----+----------+-------------------------+------------+\n",
      "|MSFT  |Jan 1 2000|39.81|2000-01-01|{MSFT, 39.81, 2000-01-01}|39.81       |\n",
      "|MSFT  |Feb 1 2000|36.35|2000-02-01|{MSFT, 36.35, 2000-02-01}|36.35       |\n",
      "|MSFT  |Mar 1 2000|43.22|2000-03-01|{MSFT, 43.22, 2000-03-01}|43.22       |\n",
      "|MSFT  |Apr 1 2000|28.37|2000-04-01|{MSFT, 28.37, 2000-04-01}|28.37       |\n",
      "|MSFT  |May 1 2000|25.45|2000-05-01|{MSFT, 25.45, 2000-05-01}|25.45       |\n",
      "+------+----------+-----+----------+-------------------------+------------+\n",
      "only showing top 5 rows\n",
      "\n"
     ]
    },
    {
     "data": {
      "text/plain": [
       "st3: org.apache.spark.sql.DataFrame = [symbol: string, date: string ... 4 more fields]\n"
      ]
     },
     "execution_count": 32,
     "metadata": {},
     "output_type": "execute_result"
    }
   ],
   "source": [
    "val st3 = st2.withColumn(\"struct_price\", col(\"struct\").getField(\"price\"))\n",
    "st3.show(5, false)"
   ]
  },
  {
   "cell_type": "code",
   "execution_count": 37,
   "id": "0b281bbb-482e-4149-aa99-e84d8cd7b840",
   "metadata": {},
   "outputs": [
    {
     "name": "stdout",
     "output_type": "stream",
     "text": [
      "+------+-----+-------------+\n",
      "|symbol|price|       struct|\n",
      "+------+-----+-------------+\n",
      "|  MSFT|39.81|{MSFT, 39.81}|\n",
      "|  MSFT|36.35|{MSFT, 36.35}|\n",
      "|  MSFT|43.22|{MSFT, 43.22}|\n",
      "|  MSFT|28.37|{MSFT, 28.37}|\n",
      "|  MSFT|25.45|{MSFT, 25.45}|\n",
      "+------+-----+-------------+\n",
      "only showing top 5 rows\n",
      "\n"
     ]
    },
    {
     "data": {
      "text/plain": [
       "st4: org.apache.spark.sql.DataFrame = [symbol: string, price: double ... 1 more field]\n"
      ]
     },
     "execution_count": 37,
     "metadata": {},
     "output_type": "execute_result"
    }
   ],
   "source": [
    "val st4 = st1.selectExpr(\"symbol\", \"price\", \"(symbol, price) as struct\")\n",
    "\n",
    "st4.show(5)"
   ]
  },
  {
   "cell_type": "code",
   "execution_count": 39,
   "id": "408ec922-4ef6-4da4-babd-4a6af46d53c6",
   "metadata": {},
   "outputs": [
    {
     "name": "stdout",
     "output_type": "stream",
     "text": [
      "+-------------+----+\n",
      "|       struct|  ss|\n",
      "+-------------+----+\n",
      "|{MSFT, 39.81}|MSFT|\n",
      "|{MSFT, 36.35}|MSFT|\n",
      "|{MSFT, 43.22}|MSFT|\n",
      "|{MSFT, 28.37}|MSFT|\n",
      "|{MSFT, 25.45}|MSFT|\n",
      "+-------------+----+\n",
      "only showing top 5 rows\n",
      "\n"
     ]
    }
   ],
   "source": [
    "st4.selectExpr(\"struct\", \"struct.symbol as ss\").show(5) "
   ]
  },
  {
   "cell_type": "code",
   "execution_count": 41,
   "id": "7f001af0-4478-4511-b2d3-030d583d0d34",
   "metadata": {},
   "outputs": [
    {
     "name": "stdout",
     "output_type": "stream",
     "text": [
      "+--------------------+--------+-----------+-----------+----------+-----------+-----------+-----------------+------------+----------------------+----------------+-------------------+--------------------+------------+--------+---------------+\n",
      "|       Creative_Type|Director|Distributor|IMDB_Rating|IMDB_Votes|MPAA_Rating|Major_Genre|Production_Budget|Release_Date|Rotten_Tomatoes_Rating|Running_Time_min|             Source|               Title|US_DVD_Sales|US_Gross|Worldwide_Gross|\n",
      "+--------------------+--------+-----------+-----------+----------+-----------+-----------+-----------------+------------+----------------------+----------------+-------------------+--------------------+------------+--------+---------------+\n",
      "|                NULL|    NULL|   Gramercy|        6.1|      1071|          R|       NULL|          8000000|   12-Jun-98|                  NULL|            NULL|               NULL|      The Land Girls|        NULL|  146083|         146083|\n",
      "|                NULL|    NULL|     Strand|        6.9|       207|          R|      Drama|           300000|    7-Aug-98|                  NULL|            NULL|               NULL|First Love, Last ...|        NULL|   10876|          10876|\n",
      "|                NULL|    NULL|  Lionsgate|        6.8|       865|       NULL|     Comedy|           250000|   28-Aug-98|                  NULL|            NULL|               NULL|I Married a Stran...|        NULL|  203134|         203134|\n",
      "|                NULL|    NULL|  Fine Line|       NULL|      NULL|       NULL|     Comedy|           300000|   11-Sep-98|                    13|            NULL|               NULL|Let's Talk About Sex|        NULL|  373615|         373615|\n",
      "|Contemporary Fiction|    NULL|    Trimark|        3.4|       165|          R|      Drama|          1000000|    9-Oct-98|                    62|            NULL|Original Screenplay|                Slam|        NULL| 1009819|        1087521|\n",
      "+--------------------+--------+-----------+-----------+----------+-----------+-----------+-----------------+------------+----------------------+----------------+-------------------+--------------------+------------+--------+---------------+\n",
      "only showing top 5 rows\n",
      "\n"
     ]
    }
   ],
   "source": [
    "mv.show(5)"
   ]
  },
  {
   "cell_type": "code",
   "execution_count": 45,
   "id": "1b27637d-d324-4ff8-8da3-4544097db57a",
   "metadata": {},
   "outputs": [
    {
     "name": "stdout",
     "output_type": "stream",
     "text": [
      "+--------------------------+--------------------------------+\n",
      "|Title                     |Title_List                      |\n",
      "+--------------------------+--------------------------------+\n",
      "|The Land Girls            |[The, Land, Girls]              |\n",
      "|First Love, Last Rites    |[First, Love, , Last, Rites]    |\n",
      "|I Married a Strange Person|[I, Married, a, Strange, Person]|\n",
      "|Let's Talk About Sex      |[Let's, Talk, About, Sex]       |\n",
      "|Slam                      |[Slam]                          |\n",
      "+--------------------------+--------------------------------+\n",
      "only showing top 5 rows\n",
      "\n"
     ]
    },
    {
     "data": {
      "text/plain": [
       "nameSplitter: org.apache.spark.sql.Column = split(Title,  |,, -1) AS Title_List\n",
       "smv: org.apache.spark.sql.DataFrame = [Title: string, Title_List: array<string>]\n"
      ]
     },
     "execution_count": 45,
     "metadata": {},
     "output_type": "execute_result"
    }
   ],
   "source": [
    "val nameSplitter = split(col(\"Title\"), \" |,\").as(\"Title_List\")\n",
    "\n",
    "val smv = mv.select(col(\"Title\"), nameSplitter)\n",
    "\n",
    "smv.show(5, false)"
   ]
  },
  {
   "cell_type": "code",
   "execution_count": 48,
   "id": "6b2b8185-6f12-4fb2-ac93-d70c2d749d5b",
   "metadata": {},
   "outputs": [
    {
     "name": "stdout",
     "output_type": "stream",
     "text": [
      "+--------------------+--------------------+-----------+-------+----+--------+\n",
      "|               Title|          Title_List|      first| second|size|contains|\n",
      "+--------------------+--------------------+-----------+-------+----+--------+\n",
      "|      The Land Girls|  [The, Land, Girls]|        The|   Land|   3|    true|\n",
      "|First Love, Last ...|[First, Love, , L...|      First|   Love|   5|   false|\n",
      "|I Married a Stran...|[I, Married, a, S...|          I|Married|   5|   false|\n",
      "|Let's Talk About Sex|[Let's, Talk, Abo...|      Let's|   Talk|   4|   false|\n",
      "|                Slam|              [Slam]|       Slam|   NULL|   1|   false|\n",
      "| Mississippi Mermaid|[Mississippi, Mer...|Mississippi|Mermaid|   2|   false|\n",
      "|           Following|         [Following]|  Following|   NULL|   1|   false|\n",
      "|             Foolish|           [Foolish]|    Foolish|   NULL|   1|   false|\n",
      "|             Pirates|           [Pirates]|    Pirates|   NULL|   1|   false|\n",
      "|     Duel in the Sun|[Duel, in, the, Sun]|       Duel|     in|   4|   false|\n",
      "|           Tom Jones|        [Tom, Jones]|        Tom|  Jones|   2|   false|\n",
      "|             Oliver!|           [Oliver!]|    Oliver!|   NULL|   1|   false|\n",
      "|To Kill A Mocking...|[To, Kill, A, Moc...|         To|   Kill|   4|   false|\n",
      "|    Tora, Tora, Tora|[Tora, , Tora, , ...|       Tora|       |   5|   false|\n",
      "|   Hollywood Shuffle|[Hollywood, Shuffle]|  Hollywood|Shuffle|   2|   false|\n",
      "|Over the Hill to ...|[Over, the, Hill,...|       Over|    the|   6|   false|\n",
      "|              Wilson|            [Wilson]|     Wilson|   NULL|   1|   false|\n",
      "|        Darling Lili|     [Darling, Lili]|    Darling|   Lili|   2|   false|\n",
      "|The Ten Commandments|[The, Ten, Comman...|        The|    Ten|   3|   false|\n",
      "|        12 Angry Men|    [12, Angry, Men]|         12|  Angry|   3|   false|\n",
      "+--------------------+--------------------+-----------+-------+----+--------+\n",
      "only showing top 20 rows\n",
      "\n"
     ]
    }
   ],
   "source": [
    "smv.select(\n",
    "    col(\"*\"),\n",
    "    expr(\"Title_List[0] as first\"),\n",
    "    col(\"Title_List\").getItem(1).as(\"second\"),\n",
    "    size(col(\"Title_List\")).as(\"size\"),\n",
    "    array_contains(col(\"Title_List\"), \"Girls\").as(\"contains\")\n",
    ").show()"
   ]
  },
  {
   "cell_type": "code",
   "execution_count": null,
   "id": "1e31d66e-b9f5-4e9a-a87f-784ad81f7c4c",
   "metadata": {},
   "outputs": [],
   "source": []
  },
  {
   "cell_type": "code",
   "execution_count": null,
   "id": "f102247c-a154-4d7d-98b0-9c5dbf971f86",
   "metadata": {},
   "outputs": [],
   "source": []
  },
  {
   "cell_type": "code",
   "execution_count": null,
   "id": "5870e3cc-8b5c-41ca-8cdd-2c3b72f31518",
   "metadata": {},
   "outputs": [],
   "source": []
  },
  {
   "cell_type": "code",
   "execution_count": null,
   "id": "47fb58ff-aabf-4931-9264-cb174de2d3d9",
   "metadata": {},
   "outputs": [],
   "source": []
  },
  {
   "cell_type": "code",
   "execution_count": null,
   "id": "79543389-ecd7-47a0-8e5c-40a7d3c019e6",
   "metadata": {},
   "outputs": [],
   "source": []
  }
 ],
 "metadata": {
  "kernelspec": {
   "display_name": "spylon-kernel",
   "language": "scala",
   "name": "spylon-kernel"
  },
  "language_info": {
   "codemirror_mode": "text/x-scala",
   "file_extension": ".scala",
   "help_links": [
    {
     "text": "MetaKernel Magics",
     "url": "https://metakernel.readthedocs.io/en/latest/source/README.html"
    }
   ],
   "mimetype": "text/x-scala",
   "name": "scala",
   "pygments_lexer": "scala",
   "version": "0.4.1"
  }
 },
 "nbformat": 4,
 "nbformat_minor": 5
}
